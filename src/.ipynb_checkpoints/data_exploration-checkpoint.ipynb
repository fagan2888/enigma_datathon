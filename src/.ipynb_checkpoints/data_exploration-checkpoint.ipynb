{
 "cells": [
  {
   "cell_type": "code",
   "execution_count": 1,
   "metadata": {},
   "outputs": [],
   "source": [
    "import numpy as np\n",
    "import pandas as pd\n",
    "import matplotlib.pyplot as plt\n",
    "import pyproj\n",
    "import folium\n",
    "import seaborn as sns\n",
    "\n",
    "%matplotlib inline"
   ]
  },
  {
   "cell_type": "code",
   "execution_count": 2,
   "metadata": {},
   "outputs": [],
   "source": [
    "data = pd.read_csv('../data/data.csv')"
   ]
  },
  {
   "cell_type": "code",
   "execution_count": 3,
   "metadata": {},
   "outputs": [
    {
     "data": {
      "text/html": [
       "<div>\n",
       "<style scoped>\n",
       "    .dataframe tbody tr th:only-of-type {\n",
       "        vertical-align: middle;\n",
       "    }\n",
       "\n",
       "    .dataframe tbody tr th {\n",
       "        vertical-align: top;\n",
       "    }\n",
       "\n",
       "    .dataframe thead th {\n",
       "        text-align: right;\n",
       "    }\n",
       "</style>\n",
       "<table border=\"1\" class=\"dataframe\">\n",
       "  <thead>\n",
       "    <tr style=\"text-align: right;\">\n",
       "      <th></th>\n",
       "      <th>borough_code</th>\n",
       "      <th>borough_code_definition</th>\n",
       "      <th>neighborhood</th>\n",
       "      <th>building_class_category_code</th>\n",
       "      <th>building_class_category_code_definition</th>\n",
       "      <th>tax_class_at_present_code</th>\n",
       "      <th>tax_class_at_present_code_definition</th>\n",
       "      <th>building_class_at_present_code</th>\n",
       "      <th>building_class_at_present_code_definition</th>\n",
       "      <th>address</th>\n",
       "      <th>...</th>\n",
       "      <th>exempt_value_land</th>\n",
       "      <th>exempt_value_total</th>\n",
       "      <th>year_altered_one</th>\n",
       "      <th>year_altered_two</th>\n",
       "      <th>historical_district_name</th>\n",
       "      <th>maximum_allowable_residential_far</th>\n",
       "      <th>maximum_allowable_commercial_far</th>\n",
       "      <th>maximum_allowable_facility_far</th>\n",
       "      <th>x_coordinate</th>\n",
       "      <th>y_coordinate</th>\n",
       "    </tr>\n",
       "  </thead>\n",
       "  <tbody>\n",
       "    <tr>\n",
       "      <th>0</th>\n",
       "      <td>1</td>\n",
       "      <td>Manhattan</td>\n",
       "      <td>ALPHABET CITY</td>\n",
       "      <td>07</td>\n",
       "      <td>RENTALS - WALKUP APARTMENTS</td>\n",
       "      <td>2</td>\n",
       "      <td>Includes all other property that is primarily ...</td>\n",
       "      <td>C4</td>\n",
       "      <td>OLD LAW TENEMENT</td>\n",
       "      <td>738 EAST 6 STREET</td>\n",
       "      <td>...</td>\n",
       "      <td>NaN</td>\n",
       "      <td>NaN</td>\n",
       "      <td>NaN</td>\n",
       "      <td>NaN</td>\n",
       "      <td>NaN</td>\n",
       "      <td>4.0</td>\n",
       "      <td>NaN</td>\n",
       "      <td>4.0</td>\n",
       "      <td>990363.0</td>\n",
       "      <td>202588.0</td>\n",
       "    </tr>\n",
       "    <tr>\n",
       "      <th>1</th>\n",
       "      <td>1</td>\n",
       "      <td>Manhattan</td>\n",
       "      <td>ALPHABET CITY</td>\n",
       "      <td>07</td>\n",
       "      <td>RENTALS - WALKUP APARTMENTS</td>\n",
       "      <td>2</td>\n",
       "      <td>Includes all other property that is primarily ...</td>\n",
       "      <td>C7</td>\n",
       "      <td>WALK-UP APT. OVER SIX FAMILIES WITH STORES</td>\n",
       "      <td>27 AVENUE C</td>\n",
       "      <td>...</td>\n",
       "      <td>NaN</td>\n",
       "      <td>NaN</td>\n",
       "      <td>NaN</td>\n",
       "      <td>NaN</td>\n",
       "      <td>NaN</td>\n",
       "      <td>4.0</td>\n",
       "      <td>NaN</td>\n",
       "      <td>4.0</td>\n",
       "      <td>989508.0</td>\n",
       "      <td>202158.0</td>\n",
       "    </tr>\n",
       "    <tr>\n",
       "      <th>2</th>\n",
       "      <td>1</td>\n",
       "      <td>Manhattan</td>\n",
       "      <td>ALPHABET CITY</td>\n",
       "      <td>07</td>\n",
       "      <td>RENTALS - WALKUP APARTMENTS</td>\n",
       "      <td>2A</td>\n",
       "      <td>Includes all other property that is primarily ...</td>\n",
       "      <td>C2</td>\n",
       "      <td>FIVE TO SIX FAMILIES</td>\n",
       "      <td>151 AVENUE B</td>\n",
       "      <td>...</td>\n",
       "      <td>NaN</td>\n",
       "      <td>NaN</td>\n",
       "      <td>NaN</td>\n",
       "      <td>NaN</td>\n",
       "      <td>NaN</td>\n",
       "      <td>4.0</td>\n",
       "      <td>NaN</td>\n",
       "      <td>4.0</td>\n",
       "      <td>989831.0</td>\n",
       "      <td>203960.0</td>\n",
       "    </tr>\n",
       "    <tr>\n",
       "      <th>3</th>\n",
       "      <td>1</td>\n",
       "      <td>Manhattan</td>\n",
       "      <td>ALPHABET CITY</td>\n",
       "      <td>07</td>\n",
       "      <td>RENTALS - WALKUP APARTMENTS</td>\n",
       "      <td>2A</td>\n",
       "      <td>Includes all other property that is primarily ...</td>\n",
       "      <td>C2</td>\n",
       "      <td>FIVE TO SIX FAMILIES</td>\n",
       "      <td>153 AVENUE B</td>\n",
       "      <td>...</td>\n",
       "      <td>NaN</td>\n",
       "      <td>NaN</td>\n",
       "      <td>1984.0</td>\n",
       "      <td>NaN</td>\n",
       "      <td>NaN</td>\n",
       "      <td>4.0</td>\n",
       "      <td>NaN</td>\n",
       "      <td>4.0</td>\n",
       "      <td>989833.0</td>\n",
       "      <td>203986.0</td>\n",
       "    </tr>\n",
       "    <tr>\n",
       "      <th>4</th>\n",
       "      <td>1</td>\n",
       "      <td>Manhattan</td>\n",
       "      <td>ALPHABET CITY</td>\n",
       "      <td>07</td>\n",
       "      <td>RENTALS - WALKUP APARTMENTS</td>\n",
       "      <td>2</td>\n",
       "      <td>Includes all other property that is primarily ...</td>\n",
       "      <td>C7</td>\n",
       "      <td>WALK-UP APT. OVER SIX FAMILIES WITH STORES</td>\n",
       "      <td>193 EAST 4 STREET</td>\n",
       "      <td>...</td>\n",
       "      <td>NaN</td>\n",
       "      <td>NaN</td>\n",
       "      <td>NaN</td>\n",
       "      <td>NaN</td>\n",
       "      <td>NaN</td>\n",
       "      <td>3.0</td>\n",
       "      <td>NaN</td>\n",
       "      <td>3.0</td>\n",
       "      <td>988623.0</td>\n",
       "      <td>203137.0</td>\n",
       "    </tr>\n",
       "    <tr>\n",
       "      <th>5</th>\n",
       "      <td>1</td>\n",
       "      <td>Manhattan</td>\n",
       "      <td>ALPHABET CITY</td>\n",
       "      <td>07</td>\n",
       "      <td>RENTALS - WALKUP APARTMENTS</td>\n",
       "      <td>2</td>\n",
       "      <td>Includes all other property that is primarily ...</td>\n",
       "      <td>C4</td>\n",
       "      <td>OLD LAW TENEMENT</td>\n",
       "      <td>516 EAST 12 STREET</td>\n",
       "      <td>...</td>\n",
       "      <td>NaN</td>\n",
       "      <td>NaN</td>\n",
       "      <td>NaN</td>\n",
       "      <td>NaN</td>\n",
       "      <td>NaN</td>\n",
       "      <td>4.0</td>\n",
       "      <td>NaN</td>\n",
       "      <td>4.0</td>\n",
       "      <td>989648.0</td>\n",
       "      <td>204688.0</td>\n",
       "    </tr>\n",
       "    <tr>\n",
       "      <th>6</th>\n",
       "      <td>1</td>\n",
       "      <td>Manhattan</td>\n",
       "      <td>ALPHABET CITY</td>\n",
       "      <td>07</td>\n",
       "      <td>RENTALS - WALKUP APARTMENTS</td>\n",
       "      <td>2</td>\n",
       "      <td>Includes all other property that is primarily ...</td>\n",
       "      <td>C7</td>\n",
       "      <td>WALK-UP APT. OVER SIX FAMILIES WITH STORES</td>\n",
       "      <td>520 EAST 14 STREET</td>\n",
       "      <td>...</td>\n",
       "      <td>NaN</td>\n",
       "      <td>NaN</td>\n",
       "      <td>2008.0</td>\n",
       "      <td>1986.0</td>\n",
       "      <td>NaN</td>\n",
       "      <td>4.0</td>\n",
       "      <td>2.0</td>\n",
       "      <td>4.0</td>\n",
       "      <td>989961.0</td>\n",
       "      <td>205123.0</td>\n",
       "    </tr>\n",
       "    <tr>\n",
       "      <th>7</th>\n",
       "      <td>1</td>\n",
       "      <td>Manhattan</td>\n",
       "      <td>ALPHABET CITY</td>\n",
       "      <td>08</td>\n",
       "      <td>RENTALS - ELEVATOR APARTMENTS</td>\n",
       "      <td>2</td>\n",
       "      <td>Includes all other property that is primarily ...</td>\n",
       "      <td>D5</td>\n",
       "      <td>ELEVATOR APT; CONVERTED</td>\n",
       "      <td>141 AVENUE D</td>\n",
       "      <td>...</td>\n",
       "      <td>207000.0</td>\n",
       "      <td>999000.0</td>\n",
       "      <td>1998.0</td>\n",
       "      <td>NaN</td>\n",
       "      <td>NaN</td>\n",
       "      <td>6.0</td>\n",
       "      <td>NaN</td>\n",
       "      <td>6.0</td>\n",
       "      <td>991005.0</td>\n",
       "      <td>203306.0</td>\n",
       "    </tr>\n",
       "    <tr>\n",
       "      <th>8</th>\n",
       "      <td>1</td>\n",
       "      <td>Manhattan</td>\n",
       "      <td>ALPHABET CITY</td>\n",
       "      <td>08</td>\n",
       "      <td>RENTALS - ELEVATOR APARTMENTS</td>\n",
       "      <td>2</td>\n",
       "      <td>Includes all other property that is primarily ...</td>\n",
       "      <td>D7</td>\n",
       "      <td>ELEVATOR APT; SEMI-FIREPROOF WITH STORES</td>\n",
       "      <td>181 AVENUE C</td>\n",
       "      <td>...</td>\n",
       "      <td>NaN</td>\n",
       "      <td>NaN</td>\n",
       "      <td>2011.0</td>\n",
       "      <td>2010.0</td>\n",
       "      <td>NaN</td>\n",
       "      <td>4.0</td>\n",
       "      <td>NaN</td>\n",
       "      <td>4.0</td>\n",
       "      <td>990550.0</td>\n",
       "      <td>204037.0</td>\n",
       "    </tr>\n",
       "    <tr>\n",
       "      <th>9</th>\n",
       "      <td>1</td>\n",
       "      <td>Manhattan</td>\n",
       "      <td>ALPHABET CITY</td>\n",
       "      <td>09</td>\n",
       "      <td>COOPS - WALKUP APARTMENTS</td>\n",
       "      <td>2</td>\n",
       "      <td>Includes all other property that is primarily ...</td>\n",
       "      <td>C6</td>\n",
       "      <td>WALK-UP COOPERATIVE</td>\n",
       "      <td>327 EAST 3 STREET</td>\n",
       "      <td>...</td>\n",
       "      <td>270000.0</td>\n",
       "      <td>425505.0</td>\n",
       "      <td>1981.0</td>\n",
       "      <td>NaN</td>\n",
       "      <td>NaN</td>\n",
       "      <td>6.0</td>\n",
       "      <td>NaN</td>\n",
       "      <td>6.0</td>\n",
       "      <td>990231.0</td>\n",
       "      <td>201918.0</td>\n",
       "    </tr>\n",
       "  </tbody>\n",
       "</table>\n",
       "<p>10 rows × 62 columns</p>\n",
       "</div>"
      ],
      "text/plain": [
       "   borough_code borough_code_definition   neighborhood  \\\n",
       "0             1               Manhattan  ALPHABET CITY   \n",
       "1             1               Manhattan  ALPHABET CITY   \n",
       "2             1               Manhattan  ALPHABET CITY   \n",
       "3             1               Manhattan  ALPHABET CITY   \n",
       "4             1               Manhattan  ALPHABET CITY   \n",
       "5             1               Manhattan  ALPHABET CITY   \n",
       "6             1               Manhattan  ALPHABET CITY   \n",
       "7             1               Manhattan  ALPHABET CITY   \n",
       "8             1               Manhattan  ALPHABET CITY   \n",
       "9             1               Manhattan  ALPHABET CITY   \n",
       "\n",
       "  building_class_category_code building_class_category_code_definition  \\\n",
       "0                           07             RENTALS - WALKUP APARTMENTS   \n",
       "1                           07             RENTALS - WALKUP APARTMENTS   \n",
       "2                           07             RENTALS - WALKUP APARTMENTS   \n",
       "3                           07             RENTALS - WALKUP APARTMENTS   \n",
       "4                           07             RENTALS - WALKUP APARTMENTS   \n",
       "5                           07             RENTALS - WALKUP APARTMENTS   \n",
       "6                           07             RENTALS - WALKUP APARTMENTS   \n",
       "7                           08           RENTALS - ELEVATOR APARTMENTS   \n",
       "8                           08           RENTALS - ELEVATOR APARTMENTS   \n",
       "9                           09               COOPS - WALKUP APARTMENTS   \n",
       "\n",
       "  tax_class_at_present_code  \\\n",
       "0                         2   \n",
       "1                         2   \n",
       "2                        2A   \n",
       "3                        2A   \n",
       "4                         2   \n",
       "5                         2   \n",
       "6                         2   \n",
       "7                         2   \n",
       "8                         2   \n",
       "9                         2   \n",
       "\n",
       "                tax_class_at_present_code_definition  \\\n",
       "0  Includes all other property that is primarily ...   \n",
       "1  Includes all other property that is primarily ...   \n",
       "2  Includes all other property that is primarily ...   \n",
       "3  Includes all other property that is primarily ...   \n",
       "4  Includes all other property that is primarily ...   \n",
       "5  Includes all other property that is primarily ...   \n",
       "6  Includes all other property that is primarily ...   \n",
       "7  Includes all other property that is primarily ...   \n",
       "8  Includes all other property that is primarily ...   \n",
       "9  Includes all other property that is primarily ...   \n",
       "\n",
       "  building_class_at_present_code   building_class_at_present_code_definition  \\\n",
       "0                             C4                            OLD LAW TENEMENT   \n",
       "1                             C7  WALK-UP APT. OVER SIX FAMILIES WITH STORES   \n",
       "2                             C2                        FIVE TO SIX FAMILIES   \n",
       "3                             C2                        FIVE TO SIX FAMILIES   \n",
       "4                             C7  WALK-UP APT. OVER SIX FAMILIES WITH STORES   \n",
       "5                             C4                            OLD LAW TENEMENT   \n",
       "6                             C7  WALK-UP APT. OVER SIX FAMILIES WITH STORES   \n",
       "7                             D5                     ELEVATOR APT; CONVERTED   \n",
       "8                             D7    ELEVATOR APT; SEMI-FIREPROOF WITH STORES   \n",
       "9                             C6                         WALK-UP COOPERATIVE   \n",
       "\n",
       "              address     ...      exempt_value_land  exempt_value_total  \\\n",
       "0   738 EAST 6 STREET     ...                    NaN                 NaN   \n",
       "1         27 AVENUE C     ...                    NaN                 NaN   \n",
       "2        151 AVENUE B     ...                    NaN                 NaN   \n",
       "3        153 AVENUE B     ...                    NaN                 NaN   \n",
       "4   193 EAST 4 STREET     ...                    NaN                 NaN   \n",
       "5  516 EAST 12 STREET     ...                    NaN                 NaN   \n",
       "6  520 EAST 14 STREET     ...                    NaN                 NaN   \n",
       "7        141 AVENUE D     ...               207000.0            999000.0   \n",
       "8        181 AVENUE C     ...                    NaN                 NaN   \n",
       "9   327 EAST 3 STREET     ...               270000.0            425505.0   \n",
       "\n",
       "   year_altered_one  year_altered_two  historical_district_name  \\\n",
       "0               NaN               NaN                       NaN   \n",
       "1               NaN               NaN                       NaN   \n",
       "2               NaN               NaN                       NaN   \n",
       "3            1984.0               NaN                       NaN   \n",
       "4               NaN               NaN                       NaN   \n",
       "5               NaN               NaN                       NaN   \n",
       "6            2008.0            1986.0                       NaN   \n",
       "7            1998.0               NaN                       NaN   \n",
       "8            2011.0            2010.0                       NaN   \n",
       "9            1981.0               NaN                       NaN   \n",
       "\n",
       "   maximum_allowable_residential_far  maximum_allowable_commercial_far  \\\n",
       "0                                4.0                               NaN   \n",
       "1                                4.0                               NaN   \n",
       "2                                4.0                               NaN   \n",
       "3                                4.0                               NaN   \n",
       "4                                3.0                               NaN   \n",
       "5                                4.0                               NaN   \n",
       "6                                4.0                               2.0   \n",
       "7                                6.0                               NaN   \n",
       "8                                4.0                               NaN   \n",
       "9                                6.0                               NaN   \n",
       "\n",
       "   maximum_allowable_facility_far  x_coordinate y_coordinate  \n",
       "0                             4.0      990363.0     202588.0  \n",
       "1                             4.0      989508.0     202158.0  \n",
       "2                             4.0      989831.0     203960.0  \n",
       "3                             4.0      989833.0     203986.0  \n",
       "4                             3.0      988623.0     203137.0  \n",
       "5                             4.0      989648.0     204688.0  \n",
       "6                             4.0      989961.0     205123.0  \n",
       "7                             6.0      991005.0     203306.0  \n",
       "8                             4.0      990550.0     204037.0  \n",
       "9                             6.0      990231.0     201918.0  \n",
       "\n",
       "[10 rows x 62 columns]"
      ]
     },
     "execution_count": 3,
     "metadata": {},
     "output_type": "execute_result"
    }
   ],
   "source": [
    "data.head(10)"
   ]
  },
  {
   "cell_type": "code",
   "execution_count": 4,
   "metadata": {
    "scrolled": false
   },
   "outputs": [
    {
     "data": {
      "text/plain": [
       "Index(['borough_code', 'borough_code_definition', 'neighborhood',\n",
       "       'building_class_category_code',\n",
       "       'building_class_category_code_definition', 'tax_class_at_present_code',\n",
       "       'tax_class_at_present_code_definition',\n",
       "       'building_class_at_present_code',\n",
       "       'building_class_at_present_code_definition', 'address',\n",
       "       'apartment_number', 'zipcode', 'residential_units', 'commercial_units',\n",
       "       'total_units', 'land_square_feet', 'gross_square_feet', 'year_built',\n",
       "       'tax_class_at_time_of_sale_code',\n",
       "       'tax_class_at_time_of_sale_code_definition',\n",
       "       'building_class_at_time_of_sale_code',\n",
       "       'building_class_at_time_of_sale_code_definition', 'sale_price',\n",
       "       'sale_date', 'community_district', 'community_district_definition',\n",
       "       'school_district', 'school_district_definition',\n",
       "       'city_council_district', 'city_council_district_definition',\n",
       "       'fire_company', 'fire_company_definition', 'police_precinct',\n",
       "       'police_precinct_definition', 'health_center_district', 'owner_type',\n",
       "       'owner_type_definition', 'floor_area_total_building',\n",
       "       'floor_area_commercial', 'floor_area_residential', 'floor_area_office',\n",
       "       'floor_area_retail', 'floor_area_garage', 'floor_area_storage',\n",
       "       'floor_area_factory', 'floor_area_other', 'buildings_number_of',\n",
       "       'floors_number_of', 'units_residential_number_of',\n",
       "       'units_total_number_of', 'assessed_value_land', 'assessed_value_total',\n",
       "       'exempt_value_land', 'exempt_value_total', 'year_altered_one',\n",
       "       'year_altered_two', 'historical_district_name',\n",
       "       'maximum_allowable_residential_far', 'maximum_allowable_commercial_far',\n",
       "       'maximum_allowable_facility_far', 'x_coordinate', 'y_coordinate'],\n",
       "      dtype='object')"
      ]
     },
     "execution_count": 4,
     "metadata": {},
     "output_type": "execute_result"
    }
   ],
   "source": [
    "data.columns"
   ]
  },
  {
   "cell_type": "code",
   "execution_count": 5,
   "metadata": {},
   "outputs": [
    {
     "data": {
      "text/html": [
       "<div>\n",
       "<style scoped>\n",
       "    .dataframe tbody tr th:only-of-type {\n",
       "        vertical-align: middle;\n",
       "    }\n",
       "\n",
       "    .dataframe tbody tr th {\n",
       "        vertical-align: top;\n",
       "    }\n",
       "\n",
       "    .dataframe thead th {\n",
       "        text-align: right;\n",
       "    }\n",
       "</style>\n",
       "<table border=\"1\" class=\"dataframe\">\n",
       "  <thead>\n",
       "    <tr style=\"text-align: right;\">\n",
       "      <th></th>\n",
       "      <th>borough_code</th>\n",
       "      <th>zipcode</th>\n",
       "      <th>residential_units</th>\n",
       "      <th>commercial_units</th>\n",
       "      <th>total_units</th>\n",
       "      <th>land_square_feet</th>\n",
       "      <th>gross_square_feet</th>\n",
       "      <th>year_built</th>\n",
       "      <th>tax_class_at_time_of_sale_code</th>\n",
       "      <th>sale_price</th>\n",
       "      <th>...</th>\n",
       "      <th>assessed_value_total</th>\n",
       "      <th>exempt_value_land</th>\n",
       "      <th>exempt_value_total</th>\n",
       "      <th>year_altered_one</th>\n",
       "      <th>year_altered_two</th>\n",
       "      <th>maximum_allowable_residential_far</th>\n",
       "      <th>maximum_allowable_commercial_far</th>\n",
       "      <th>maximum_allowable_facility_far</th>\n",
       "      <th>x_coordinate</th>\n",
       "      <th>y_coordinate</th>\n",
       "    </tr>\n",
       "  </thead>\n",
       "  <tbody>\n",
       "    <tr>\n",
       "      <th>count</th>\n",
       "      <td>60295.000000</td>\n",
       "      <td>60295.000000</td>\n",
       "      <td>51800.000000</td>\n",
       "      <td>4063.000000</td>\n",
       "      <td>55748.000000</td>\n",
       "      <td>4.158000e+04</td>\n",
       "      <td>4.033300e+04</td>\n",
       "      <td>56392.000000</td>\n",
       "      <td>60295.000000</td>\n",
       "      <td>4.138000e+04</td>\n",
       "      <td>...</td>\n",
       "      <td>5.877900e+04</td>\n",
       "      <td>2.899600e+04</td>\n",
       "      <td>3.140100e+04</td>\n",
       "      <td>7680.000000</td>\n",
       "      <td>1077.000000</td>\n",
       "      <td>58418.000000</td>\n",
       "      <td>9573.000000</td>\n",
       "      <td>59818.000000</td>\n",
       "      <td>5.760900e+04</td>\n",
       "      <td>57609.000000</td>\n",
       "    </tr>\n",
       "    <tr>\n",
       "      <th>mean</th>\n",
       "      <td>3.125682</td>\n",
       "      <td>10892.267700</td>\n",
       "      <td>2.460270</td>\n",
       "      <td>2.028550</td>\n",
       "      <td>2.472376</td>\n",
       "      <td>4.031877e+03</td>\n",
       "      <td>4.107047e+03</td>\n",
       "      <td>1950.225865</td>\n",
       "      <td>1.557741</td>\n",
       "      <td>1.599330e+06</td>\n",
       "      <td>...</td>\n",
       "      <td>5.457912e+06</td>\n",
       "      <td>2.478981e+05</td>\n",
       "      <td>2.011400e+06</td>\n",
       "      <td>1997.623437</td>\n",
       "      <td>2006.251625</td>\n",
       "      <td>2.505188</td>\n",
       "      <td>5.421122</td>\n",
       "      <td>3.337158</td>\n",
       "      <td>1.002762e+06</td>\n",
       "      <td>194620.757000</td>\n",
       "    </tr>\n",
       "    <tr>\n",
       "      <th>std</th>\n",
       "      <td>1.237895</td>\n",
       "      <td>568.654447</td>\n",
       "      <td>10.402452</td>\n",
       "      <td>6.054176</td>\n",
       "      <td>10.218520</td>\n",
       "      <td>2.365167e+04</td>\n",
       "      <td>2.607770e+04</td>\n",
       "      <td>36.933528</td>\n",
       "      <td>0.842635</td>\n",
       "      <td>1.314434e+07</td>\n",
       "      <td>...</td>\n",
       "      <td>1.894986e+07</td>\n",
       "      <td>1.997356e+06</td>\n",
       "      <td>9.373219e+06</td>\n",
       "      <td>14.680213</td>\n",
       "      <td>8.675201</td>\n",
       "      <td>2.722832</td>\n",
       "      <td>4.271232</td>\n",
       "      <td>2.903835</td>\n",
       "      <td>2.989883e+04</td>\n",
       "      <td>29463.222056</td>\n",
       "    </tr>\n",
       "    <tr>\n",
       "      <th>min</th>\n",
       "      <td>1.000000</td>\n",
       "      <td>0.000000</td>\n",
       "      <td>1.000000</td>\n",
       "      <td>1.000000</td>\n",
       "      <td>1.000000</td>\n",
       "      <td>1.300000e+01</td>\n",
       "      <td>1.000000e+00</td>\n",
       "      <td>1111.000000</td>\n",
       "      <td>1.000000</td>\n",
       "      <td>1.000000e+00</td>\n",
       "      <td>...</td>\n",
       "      <td>1.600000e+01</td>\n",
       "      <td>2.000000e+00</td>\n",
       "      <td>2.000000e+00</td>\n",
       "      <td>1908.000000</td>\n",
       "      <td>1930.000000</td>\n",
       "      <td>0.500000</td>\n",
       "      <td>0.500000</td>\n",
       "      <td>1.000000</td>\n",
       "      <td>9.132830e+05</td>\n",
       "      <td>121099.000000</td>\n",
       "    </tr>\n",
       "    <tr>\n",
       "      <th>25%</th>\n",
       "      <td>2.000000</td>\n",
       "      <td>10312.000000</td>\n",
       "      <td>1.000000</td>\n",
       "      <td>1.000000</td>\n",
       "      <td>1.000000</td>\n",
       "      <td>2.000000e+03</td>\n",
       "      <td>1.408000e+03</td>\n",
       "      <td>1920.000000</td>\n",
       "      <td>1.000000</td>\n",
       "      <td>4.650000e+05</td>\n",
       "      <td>...</td>\n",
       "      <td>2.436400e+04</td>\n",
       "      <td>1.550000e+03</td>\n",
       "      <td>1.550000e+03</td>\n",
       "      <td>1987.000000</td>\n",
       "      <td>2003.000000</td>\n",
       "      <td>0.600000</td>\n",
       "      <td>2.000000</td>\n",
       "      <td>1.000000</td>\n",
       "      <td>9.878840e+05</td>\n",
       "      <td>171657.000000</td>\n",
       "    </tr>\n",
       "    <tr>\n",
       "      <th>50%</th>\n",
       "      <td>3.000000</td>\n",
       "      <td>11213.000000</td>\n",
       "      <td>1.000000</td>\n",
       "      <td>1.000000</td>\n",
       "      <td>1.000000</td>\n",
       "      <td>2.500000e+03</td>\n",
       "      <td>1.975000e+03</td>\n",
       "      <td>1940.000000</td>\n",
       "      <td>1.000000</td>\n",
       "      <td>7.120000e+05</td>\n",
       "      <td>...</td>\n",
       "      <td>3.669700e+04</td>\n",
       "      <td>6.551000e+03</td>\n",
       "      <td>1.416000e+04</td>\n",
       "      <td>2002.000000</td>\n",
       "      <td>2007.000000</td>\n",
       "      <td>1.250000</td>\n",
       "      <td>3.400000</td>\n",
       "      <td>2.000000</td>\n",
       "      <td>1.000541e+06</td>\n",
       "      <td>194375.000000</td>\n",
       "    </tr>\n",
       "    <tr>\n",
       "      <th>75%</th>\n",
       "      <td>4.000000</td>\n",
       "      <td>11356.000000</td>\n",
       "      <td>2.000000</td>\n",
       "      <td>2.000000</td>\n",
       "      <td>2.000000</td>\n",
       "      <td>4.000000e+03</td>\n",
       "      <td>2.802000e+03</td>\n",
       "      <td>1983.000000</td>\n",
       "      <td>2.000000</td>\n",
       "      <td>1.200000e+06</td>\n",
       "      <td>...</td>\n",
       "      <td>1.077480e+06</td>\n",
       "      <td>6.489050e+04</td>\n",
       "      <td>2.523740e+05</td>\n",
       "      <td>2008.000000</td>\n",
       "      <td>2013.000000</td>\n",
       "      <td>3.000000</td>\n",
       "      <td>10.000000</td>\n",
       "      <td>4.800000</td>\n",
       "      <td>1.024256e+06</td>\n",
       "      <td>215187.000000</td>\n",
       "    </tr>\n",
       "    <tr>\n",
       "      <th>max</th>\n",
       "      <td>5.000000</td>\n",
       "      <td>11697.000000</td>\n",
       "      <td>917.000000</td>\n",
       "      <td>184.000000</td>\n",
       "      <td>917.000000</td>\n",
       "      <td>3.014056e+06</td>\n",
       "      <td>2.224200e+06</td>\n",
       "      <td>2017.000000</td>\n",
       "      <td>4.000000</td>\n",
       "      <td>2.210000e+09</td>\n",
       "      <td>...</td>\n",
       "      <td>5.007303e+08</td>\n",
       "      <td>1.687136e+08</td>\n",
       "      <td>4.033876e+08</td>\n",
       "      <td>2017.000000</td>\n",
       "      <td>2016.000000</td>\n",
       "      <td>12.000000</td>\n",
       "      <td>15.000000</td>\n",
       "      <td>15.000000</td>\n",
       "      <td>1.067141e+06</td>\n",
       "      <td>271831.000000</td>\n",
       "    </tr>\n",
       "  </tbody>\n",
       "</table>\n",
       "<p>8 rows × 39 columns</p>\n",
       "</div>"
      ],
      "text/plain": [
       "       borough_code       zipcode  residential_units  commercial_units  \\\n",
       "count  60295.000000  60295.000000       51800.000000       4063.000000   \n",
       "mean       3.125682  10892.267700           2.460270          2.028550   \n",
       "std        1.237895    568.654447          10.402452          6.054176   \n",
       "min        1.000000      0.000000           1.000000          1.000000   \n",
       "25%        2.000000  10312.000000           1.000000          1.000000   \n",
       "50%        3.000000  11213.000000           1.000000          1.000000   \n",
       "75%        4.000000  11356.000000           2.000000          2.000000   \n",
       "max        5.000000  11697.000000         917.000000        184.000000   \n",
       "\n",
       "        total_units  land_square_feet  gross_square_feet    year_built  \\\n",
       "count  55748.000000      4.158000e+04       4.033300e+04  56392.000000   \n",
       "mean       2.472376      4.031877e+03       4.107047e+03   1950.225865   \n",
       "std       10.218520      2.365167e+04       2.607770e+04     36.933528   \n",
       "min        1.000000      1.300000e+01       1.000000e+00   1111.000000   \n",
       "25%        1.000000      2.000000e+03       1.408000e+03   1920.000000   \n",
       "50%        1.000000      2.500000e+03       1.975000e+03   1940.000000   \n",
       "75%        2.000000      4.000000e+03       2.802000e+03   1983.000000   \n",
       "max      917.000000      3.014056e+06       2.224200e+06   2017.000000   \n",
       "\n",
       "       tax_class_at_time_of_sale_code    sale_price      ...        \\\n",
       "count                    60295.000000  4.138000e+04      ...         \n",
       "mean                         1.557741  1.599330e+06      ...         \n",
       "std                          0.842635  1.314434e+07      ...         \n",
       "min                          1.000000  1.000000e+00      ...         \n",
       "25%                          1.000000  4.650000e+05      ...         \n",
       "50%                          1.000000  7.120000e+05      ...         \n",
       "75%                          2.000000  1.200000e+06      ...         \n",
       "max                          4.000000  2.210000e+09      ...         \n",
       "\n",
       "       assessed_value_total  exempt_value_land  exempt_value_total  \\\n",
       "count          5.877900e+04       2.899600e+04        3.140100e+04   \n",
       "mean           5.457912e+06       2.478981e+05        2.011400e+06   \n",
       "std            1.894986e+07       1.997356e+06        9.373219e+06   \n",
       "min            1.600000e+01       2.000000e+00        2.000000e+00   \n",
       "25%            2.436400e+04       1.550000e+03        1.550000e+03   \n",
       "50%            3.669700e+04       6.551000e+03        1.416000e+04   \n",
       "75%            1.077480e+06       6.489050e+04        2.523740e+05   \n",
       "max            5.007303e+08       1.687136e+08        4.033876e+08   \n",
       "\n",
       "       year_altered_one  year_altered_two  maximum_allowable_residential_far  \\\n",
       "count       7680.000000       1077.000000                       58418.000000   \n",
       "mean        1997.623437       2006.251625                           2.505188   \n",
       "std           14.680213          8.675201                           2.722832   \n",
       "min         1908.000000       1930.000000                           0.500000   \n",
       "25%         1987.000000       2003.000000                           0.600000   \n",
       "50%         2002.000000       2007.000000                           1.250000   \n",
       "75%         2008.000000       2013.000000                           3.000000   \n",
       "max         2017.000000       2016.000000                          12.000000   \n",
       "\n",
       "       maximum_allowable_commercial_far  maximum_allowable_facility_far  \\\n",
       "count                       9573.000000                    59818.000000   \n",
       "mean                           5.421122                        3.337158   \n",
       "std                            4.271232                        2.903835   \n",
       "min                            0.500000                        1.000000   \n",
       "25%                            2.000000                        1.000000   \n",
       "50%                            3.400000                        2.000000   \n",
       "75%                           10.000000                        4.800000   \n",
       "max                           15.000000                       15.000000   \n",
       "\n",
       "       x_coordinate   y_coordinate  \n",
       "count  5.760900e+04   57609.000000  \n",
       "mean   1.002762e+06  194620.757000  \n",
       "std    2.989883e+04   29463.222056  \n",
       "min    9.132830e+05  121099.000000  \n",
       "25%    9.878840e+05  171657.000000  \n",
       "50%    1.000541e+06  194375.000000  \n",
       "75%    1.024256e+06  215187.000000  \n",
       "max    1.067141e+06  271831.000000  \n",
       "\n",
       "[8 rows x 39 columns]"
      ]
     },
     "execution_count": 5,
     "metadata": {},
     "output_type": "execute_result"
    }
   ],
   "source": [
    "data.describe()"
   ]
  },
  {
   "cell_type": "code",
   "execution_count": 6,
   "metadata": {},
   "outputs": [
    {
     "data": {
      "text/plain": [
       "borough_code                                      False\n",
       "borough_code_definition                           False\n",
       "neighborhood                                      False\n",
       "building_class_category_code                      False\n",
       "building_class_category_code_definition           False\n",
       "tax_class_at_present_code                          True\n",
       "tax_class_at_present_code_definition               True\n",
       "building_class_at_present_code                     True\n",
       "building_class_at_present_code_definition          True\n",
       "address                                           False\n",
       "apartment_number                                   True\n",
       "zipcode                                           False\n",
       "residential_units                                  True\n",
       "commercial_units                                   True\n",
       "total_units                                        True\n",
       "land_square_feet                                   True\n",
       "gross_square_feet                                  True\n",
       "year_built                                         True\n",
       "tax_class_at_time_of_sale_code                    False\n",
       "tax_class_at_time_of_sale_code_definition         False\n",
       "building_class_at_time_of_sale_code               False\n",
       "building_class_at_time_of_sale_code_definition    False\n",
       "sale_price                                         True\n",
       "sale_date                                         False\n",
       "community_district                                False\n",
       "community_district_definition                     False\n",
       "school_district                                    True\n",
       "school_district_definition                         True\n",
       "city_council_district                              True\n",
       "city_council_district_definition                   True\n",
       "                                                  ...  \n",
       "police_precinct                                    True\n",
       "police_precinct_definition                         True\n",
       "health_center_district                             True\n",
       "owner_type                                         True\n",
       "owner_type_definition                              True\n",
       "floor_area_total_building                          True\n",
       "floor_area_commercial                              True\n",
       "floor_area_residential                             True\n",
       "floor_area_office                                  True\n",
       "floor_area_retail                                  True\n",
       "floor_area_garage                                  True\n",
       "floor_area_storage                                 True\n",
       "floor_area_factory                                 True\n",
       "floor_area_other                                   True\n",
       "buildings_number_of                                True\n",
       "floors_number_of                                   True\n",
       "units_residential_number_of                       False\n",
       "units_total_number_of                             False\n",
       "assessed_value_land                                True\n",
       "assessed_value_total                               True\n",
       "exempt_value_land                                  True\n",
       "exempt_value_total                                 True\n",
       "year_altered_one                                   True\n",
       "year_altered_two                                   True\n",
       "historical_district_name                           True\n",
       "maximum_allowable_residential_far                  True\n",
       "maximum_allowable_commercial_far                   True\n",
       "maximum_allowable_facility_far                     True\n",
       "x_coordinate                                       True\n",
       "y_coordinate                                       True\n",
       "Length: 62, dtype: bool"
      ]
     },
     "execution_count": 6,
     "metadata": {},
     "output_type": "execute_result"
    }
   ],
   "source": [
    "data.isnull().any()"
   ]
  },
  {
   "cell_type": "code",
   "execution_count": 7,
   "metadata": {},
   "outputs": [
    {
     "data": {
      "text/plain": [
       "sale_price           18915\n",
       "residential_units     8495\n",
       "commercial_units     56232\n",
       "dtype: int64"
      ]
     },
     "execution_count": 7,
     "metadata": {},
     "output_type": "execute_result"
    }
   ],
   "source": [
    "data[['sale_price', 'residential_units', 'commercial_units']].isnull().sum(axis=0)"
   ]
  },
  {
   "cell_type": "code",
   "execution_count": 8,
   "metadata": {},
   "outputs": [
    {
     "data": {
      "text/html": [
       "<div>\n",
       "<style scoped>\n",
       "    .dataframe tbody tr th:only-of-type {\n",
       "        vertical-align: middle;\n",
       "    }\n",
       "\n",
       "    .dataframe tbody tr th {\n",
       "        vertical-align: top;\n",
       "    }\n",
       "\n",
       "    .dataframe thead th {\n",
       "        text-align: right;\n",
       "    }\n",
       "</style>\n",
       "<table border=\"1\" class=\"dataframe\">\n",
       "  <thead>\n",
       "    <tr style=\"text-align: right;\">\n",
       "      <th></th>\n",
       "      <th>residential_units</th>\n",
       "      <th>commercial_units</th>\n",
       "    </tr>\n",
       "  </thead>\n",
       "  <tbody>\n",
       "    <tr>\n",
       "      <th>0</th>\n",
       "      <td>11.0</td>\n",
       "      <td>NaN</td>\n",
       "    </tr>\n",
       "    <tr>\n",
       "      <th>1</th>\n",
       "      <td>24.0</td>\n",
       "      <td>1.0</td>\n",
       "    </tr>\n",
       "    <tr>\n",
       "      <th>2</th>\n",
       "      <td>5.0</td>\n",
       "      <td>NaN</td>\n",
       "    </tr>\n",
       "    <tr>\n",
       "      <th>3</th>\n",
       "      <td>5.0</td>\n",
       "      <td>NaN</td>\n",
       "    </tr>\n",
       "    <tr>\n",
       "      <th>4</th>\n",
       "      <td>11.0</td>\n",
       "      <td>1.0</td>\n",
       "    </tr>\n",
       "    <tr>\n",
       "      <th>5</th>\n",
       "      <td>20.0</td>\n",
       "      <td>NaN</td>\n",
       "    </tr>\n",
       "    <tr>\n",
       "      <th>6</th>\n",
       "      <td>44.0</td>\n",
       "      <td>2.0</td>\n",
       "    </tr>\n",
       "    <tr>\n",
       "      <th>7</th>\n",
       "      <td>15.0</td>\n",
       "      <td>NaN</td>\n",
       "    </tr>\n",
       "    <tr>\n",
       "      <th>8</th>\n",
       "      <td>30.0</td>\n",
       "      <td>4.0</td>\n",
       "    </tr>\n",
       "    <tr>\n",
       "      <th>9</th>\n",
       "      <td>NaN</td>\n",
       "      <td>NaN</td>\n",
       "    </tr>\n",
       "    <tr>\n",
       "      <th>10</th>\n",
       "      <td>NaN</td>\n",
       "      <td>NaN</td>\n",
       "    </tr>\n",
       "    <tr>\n",
       "      <th>11</th>\n",
       "      <td>NaN</td>\n",
       "      <td>NaN</td>\n",
       "    </tr>\n",
       "    <tr>\n",
       "      <th>12</th>\n",
       "      <td>NaN</td>\n",
       "      <td>NaN</td>\n",
       "    </tr>\n",
       "    <tr>\n",
       "      <th>13</th>\n",
       "      <td>NaN</td>\n",
       "      <td>NaN</td>\n",
       "    </tr>\n",
       "    <tr>\n",
       "      <th>14</th>\n",
       "      <td>NaN</td>\n",
       "      <td>NaN</td>\n",
       "    </tr>\n",
       "    <tr>\n",
       "      <th>15</th>\n",
       "      <td>NaN</td>\n",
       "      <td>NaN</td>\n",
       "    </tr>\n",
       "    <tr>\n",
       "      <th>16</th>\n",
       "      <td>NaN</td>\n",
       "      <td>NaN</td>\n",
       "    </tr>\n",
       "    <tr>\n",
       "      <th>17</th>\n",
       "      <td>NaN</td>\n",
       "      <td>NaN</td>\n",
       "    </tr>\n",
       "    <tr>\n",
       "      <th>18</th>\n",
       "      <td>NaN</td>\n",
       "      <td>NaN</td>\n",
       "    </tr>\n",
       "    <tr>\n",
       "      <th>19</th>\n",
       "      <td>NaN</td>\n",
       "      <td>NaN</td>\n",
       "    </tr>\n",
       "  </tbody>\n",
       "</table>\n",
       "</div>"
      ],
      "text/plain": [
       "    residential_units  commercial_units\n",
       "0                11.0               NaN\n",
       "1                24.0               1.0\n",
       "2                 5.0               NaN\n",
       "3                 5.0               NaN\n",
       "4                11.0               1.0\n",
       "5                20.0               NaN\n",
       "6                44.0               2.0\n",
       "7                15.0               NaN\n",
       "8                30.0               4.0\n",
       "9                 NaN               NaN\n",
       "10                NaN               NaN\n",
       "11                NaN               NaN\n",
       "12                NaN               NaN\n",
       "13                NaN               NaN\n",
       "14                NaN               NaN\n",
       "15                NaN               NaN\n",
       "16                NaN               NaN\n",
       "17                NaN               NaN\n",
       "18                NaN               NaN\n",
       "19                NaN               NaN"
      ]
     },
     "execution_count": 8,
     "metadata": {},
     "output_type": "execute_result"
    }
   ],
   "source": [
    "data[['residential_units', 'commercial_units']].head(20)"
   ]
  },
  {
   "cell_type": "code",
   "execution_count": 9,
   "metadata": {},
   "outputs": [],
   "source": [
    "lat_lon = pd.read_csv('../data/lat_lon.csv', index_col=0)"
   ]
  },
  {
   "cell_type": "code",
   "execution_count": 10,
   "metadata": {},
   "outputs": [
    {
     "data": {
      "text/html": [
       "<div>\n",
       "<style scoped>\n",
       "    .dataframe tbody tr th:only-of-type {\n",
       "        vertical-align: middle;\n",
       "    }\n",
       "\n",
       "    .dataframe tbody tr th {\n",
       "        vertical-align: top;\n",
       "    }\n",
       "\n",
       "    .dataframe thead th {\n",
       "        text-align: right;\n",
       "    }\n",
       "</style>\n",
       "<table border=\"1\" class=\"dataframe\">\n",
       "  <thead>\n",
       "    <tr style=\"text-align: right;\">\n",
       "      <th></th>\n",
       "      <th>lat</th>\n",
       "      <th>lon</th>\n",
       "    </tr>\n",
       "  </thead>\n",
       "  <tbody>\n",
       "    <tr>\n",
       "      <th>0</th>\n",
       "      <td>-73.977946</td>\n",
       "      <td>40.722732</td>\n",
       "    </tr>\n",
       "    <tr>\n",
       "      <th>1</th>\n",
       "      <td>-73.981031</td>\n",
       "      <td>40.721552</td>\n",
       "    </tr>\n",
       "    <tr>\n",
       "      <th>2</th>\n",
       "      <td>-73.979864</td>\n",
       "      <td>40.726498</td>\n",
       "    </tr>\n",
       "    <tr>\n",
       "      <th>3</th>\n",
       "      <td>-73.979857</td>\n",
       "      <td>40.726569</td>\n",
       "    </tr>\n",
       "    <tr>\n",
       "      <th>4</th>\n",
       "      <td>-73.984223</td>\n",
       "      <td>40.724240</td>\n",
       "    </tr>\n",
       "    <tr>\n",
       "      <th>5</th>\n",
       "      <td>-73.980524</td>\n",
       "      <td>40.728496</td>\n",
       "    </tr>\n",
       "    <tr>\n",
       "      <th>6</th>\n",
       "      <td>-73.979394</td>\n",
       "      <td>40.729690</td>\n",
       "    </tr>\n",
       "    <tr>\n",
       "      <th>7</th>\n",
       "      <td>-73.975629</td>\n",
       "      <td>40.724702</td>\n",
       "    </tr>\n",
       "    <tr>\n",
       "      <th>8</th>\n",
       "      <td>-73.977270</td>\n",
       "      <td>40.726709</td>\n",
       "    </tr>\n",
       "    <tr>\n",
       "      <th>9</th>\n",
       "      <td>-73.978423</td>\n",
       "      <td>40.720893</td>\n",
       "    </tr>\n",
       "  </tbody>\n",
       "</table>\n",
       "</div>"
      ],
      "text/plain": [
       "         lat        lon\n",
       "0 -73.977946  40.722732\n",
       "1 -73.981031  40.721552\n",
       "2 -73.979864  40.726498\n",
       "3 -73.979857  40.726569\n",
       "4 -73.984223  40.724240\n",
       "5 -73.980524  40.728496\n",
       "6 -73.979394  40.729690\n",
       "7 -73.975629  40.724702\n",
       "8 -73.977270  40.726709\n",
       "9 -73.978423  40.720893"
      ]
     },
     "execution_count": 10,
     "metadata": {},
     "output_type": "execute_result"
    }
   ],
   "source": [
    "lat_lon.head(10)"
   ]
  },
  {
   "cell_type": "code",
   "execution_count": 11,
   "metadata": {},
   "outputs": [],
   "source": [
    "# NYSP1983 = pyproj.Proj(init=\"ESRI:101718\", preserve_units=True)"
   ]
  },
  {
   "cell_type": "code",
   "execution_count": 12,
   "metadata": {},
   "outputs": [],
   "source": [
    "# def convert_to_lat_log(x):\n",
    "#     return NYSP1983(*x, inverse=True)"
   ]
  },
  {
   "cell_type": "code",
   "execution_count": 13,
   "metadata": {},
   "outputs": [],
   "source": [
    "# lat_lon = data[['x_coordinate', 'y_coordinate']].apply(convert_to_lat_log, axis=1)"
   ]
  },
  {
   "cell_type": "code",
   "execution_count": 14,
   "metadata": {},
   "outputs": [],
   "source": [
    "data[['lon', 'lat']] = lat_lon"
   ]
  },
  {
   "cell_type": "code",
   "execution_count": 15,
   "metadata": {},
   "outputs": [
    {
     "data": {
      "text/plain": [
       "0    40.722732\n",
       "1    40.721552\n",
       "2    40.726498\n",
       "3    40.726569\n",
       "4    40.724240\n",
       "Name: lat, dtype: float64"
      ]
     },
     "execution_count": 15,
     "metadata": {},
     "output_type": "execute_result"
    }
   ],
   "source": [
    "data['lat'].head()"
   ]
  },
  {
   "cell_type": "code",
   "execution_count": 16,
   "metadata": {},
   "outputs": [],
   "source": [
    "data.drop(['building_class_at_present_code_definition', 'building_class_at_time_of_sale_code_definition', 'building_class_category_code_definition'], axis=1, inplace=True)"
   ]
  },
  {
   "cell_type": "code",
   "execution_count": 17,
   "metadata": {},
   "outputs": [],
   "source": [
    "data = data[~(data['residential_units'].isnull() & data['commercial_units'].isnull())]"
   ]
  },
  {
   "cell_type": "code",
   "execution_count": 18,
   "metadata": {},
   "outputs": [],
   "source": [
    "data = data[~data['sale_price'].isnull()]"
   ]
  },
  {
   "cell_type": "code",
   "execution_count": 19,
   "metadata": {},
   "outputs": [],
   "source": [
    "neighborhood_centers = data.groupby('neighborhood')[['lat', 'lon']].mean()"
   ]
  },
  {
   "cell_type": "code",
   "execution_count": 20,
   "metadata": {},
   "outputs": [
    {
     "data": {
      "text/html": [
       "<div>\n",
       "<style scoped>\n",
       "    .dataframe tbody tr th:only-of-type {\n",
       "        vertical-align: middle;\n",
       "    }\n",
       "\n",
       "    .dataframe tbody tr th {\n",
       "        vertical-align: top;\n",
       "    }\n",
       "\n",
       "    .dataframe thead th {\n",
       "        text-align: right;\n",
       "    }\n",
       "</style>\n",
       "<table border=\"1\" class=\"dataframe\">\n",
       "  <thead>\n",
       "    <tr style=\"text-align: right;\">\n",
       "      <th></th>\n",
       "      <th>lat</th>\n",
       "      <th>lon</th>\n",
       "    </tr>\n",
       "    <tr>\n",
       "      <th>neighborhood</th>\n",
       "      <th></th>\n",
       "      <th></th>\n",
       "    </tr>\n",
       "  </thead>\n",
       "  <tbody>\n",
       "    <tr>\n",
       "      <th>AIRPORT LA GUARDIA</th>\n",
       "      <td>4.074358e+01</td>\n",
       "      <td>-7.390746e+01</td>\n",
       "    </tr>\n",
       "    <tr>\n",
       "      <th>ALPHABET CITY</th>\n",
       "      <td>2.264151e+29</td>\n",
       "      <td>2.264151e+29</td>\n",
       "    </tr>\n",
       "    <tr>\n",
       "      <th>ANNADALE</th>\n",
       "      <td>4.123711e+28</td>\n",
       "      <td>4.123711e+28</td>\n",
       "    </tr>\n",
       "    <tr>\n",
       "      <th>ARDEN HEIGHTS</th>\n",
       "      <td>4.464286e+27</td>\n",
       "      <td>4.464286e+27</td>\n",
       "    </tr>\n",
       "    <tr>\n",
       "      <th>ARROCHAR</th>\n",
       "      <td>2.068966e+29</td>\n",
       "      <td>2.068966e+29</td>\n",
       "    </tr>\n",
       "  </tbody>\n",
       "</table>\n",
       "</div>"
      ],
      "text/plain": [
       "                             lat           lon\n",
       "neighborhood                                  \n",
       "AIRPORT LA GUARDIA  4.074358e+01 -7.390746e+01\n",
       "ALPHABET CITY       2.264151e+29  2.264151e+29\n",
       "ANNADALE            4.123711e+28  4.123711e+28\n",
       "ARDEN HEIGHTS       4.464286e+27  4.464286e+27\n",
       "ARROCHAR            2.068966e+29  2.068966e+29"
      ]
     },
     "execution_count": 20,
     "metadata": {},
     "output_type": "execute_result"
    }
   ],
   "source": [
    "neighborhood_centers.head()"
   ]
  },
  {
   "cell_type": "code",
   "execution_count": 21,
   "metadata": {},
   "outputs": [],
   "source": [
    "data[['lat_cent_nbhd', 'lon_cent_nbhd']] = neighborhood_centers"
   ]
  },
  {
   "cell_type": "code",
   "execution_count": 22,
   "metadata": {},
   "outputs": [],
   "source": [
    "residential_prices = data.groupby('residential_units')['sale_price'].mean()\n",
    "commerical_prices = data.groupby('commercial_units')['sale_price'].mean()"
   ]
  },
  {
   "cell_type": "code",
   "execution_count": 23,
   "metadata": {},
   "outputs": [
    {
     "data": {
      "text/plain": [
       "(37113, 63)"
      ]
     },
     "execution_count": 23,
     "metadata": {},
     "output_type": "execute_result"
    }
   ],
   "source": [
    "data[~(data['units_residential_number_of'].isnull() & data['commercial_units'].isnull())].shape"
   ]
  },
  {
   "cell_type": "code",
   "execution_count": 24,
   "metadata": {},
   "outputs": [
    {
     "data": {
      "text/plain": [
       "(37113, 63)"
      ]
     },
     "execution_count": 24,
     "metadata": {},
     "output_type": "execute_result"
    }
   ],
   "source": [
    "data[~data['total_units'].isnull()].shape"
   ]
  },
  {
   "cell_type": "code",
   "execution_count": 25,
   "metadata": {},
   "outputs": [
    {
     "data": {
      "text/plain": [
       "(1269, 63)"
      ]
     },
     "execution_count": 25,
     "metadata": {},
     "output_type": "execute_result"
    }
   ],
   "source": [
    "data[data['total_units'] == data['residential_units']+data['commercial_units']].shape"
   ]
  },
  {
   "cell_type": "code",
   "execution_count": 26,
   "metadata": {},
   "outputs": [
    {
     "data": {
      "text/plain": [
       "(1009, 63)"
      ]
     },
     "execution_count": 26,
     "metadata": {},
     "output_type": "execute_result"
    }
   ],
   "source": [
    "data[data['residential_units'].isnull()].shape"
   ]
  },
  {
   "cell_type": "code",
   "execution_count": 27,
   "metadata": {},
   "outputs": [
    {
     "data": {
      "text/plain": [
       "(2289, 63)"
      ]
     },
     "execution_count": 27,
     "metadata": {},
     "output_type": "execute_result"
    }
   ],
   "source": [
    "data[~data['commercial_units'].isnull()].shape"
   ]
  },
  {
   "cell_type": "code",
   "execution_count": 28,
   "metadata": {},
   "outputs": [
    {
     "data": {
      "text/plain": [
       "(137,)"
      ]
     },
     "execution_count": 28,
     "metadata": {},
     "output_type": "execute_result"
    }
   ],
   "source": [
    "data['building_class_at_time_of_sale_code'].value_counts().shape"
   ]
  },
  {
   "cell_type": "code",
   "execution_count": 29,
   "metadata": {},
   "outputs": [],
   "source": [
    "data['building_class'] = data['building_class_at_time_of_sale_code'].str[0]"
   ]
  },
  {
   "cell_type": "code",
   "execution_count": 30,
   "metadata": {},
   "outputs": [
    {
     "data": {
      "text/plain": [
       "A    11870\n",
       "R    10602\n",
       "B     8770\n",
       "C     3627\n",
       "S      895\n",
       "K      409\n",
       "D      188\n",
       "G      151\n",
       "O      150\n",
       "E      149\n",
       "F       91\n",
       "M       55\n",
       "V       33\n",
       "H       25\n",
       "W       23\n",
       "I       20\n",
       "Z       16\n",
       "P       15\n",
       "L       10\n",
       "N        6\n",
       "J        5\n",
       "Q        2\n",
       "Y        1\n",
       "Name: building_class, dtype: int64"
      ]
     },
     "execution_count": 30,
     "metadata": {},
     "output_type": "execute_result"
    }
   ],
   "source": [
    "data['building_class'].value_counts()"
   ]
  },
  {
   "cell_type": "code",
   "execution_count": 31,
   "metadata": {},
   "outputs": [],
   "source": [
    "data['month'] = pd.to_datetime(data['sale_date']).dt.month"
   ]
  },
  {
   "cell_type": "code",
   "execution_count": 32,
   "metadata": {},
   "outputs": [
    {
     "data": {
      "text/plain": [
       "0      4\n",
       "1      7\n",
       "3      7\n",
       "4     11\n",
       "45     7\n",
       "47     9\n",
       "49     3\n",
       "57     2\n",
       "62     2\n",
       "66     5\n",
       "Name: month, dtype: int64"
      ]
     },
     "execution_count": 32,
     "metadata": {},
     "output_type": "execute_result"
    }
   ],
   "source": [
    "data['month'].head(10)"
   ]
  },
  {
   "cell_type": "code",
   "execution_count": 33,
   "metadata": {},
   "outputs": [
    {
     "data": {
      "text/plain": [
       "building_class\n",
       "A    6.837473e+05\n",
       "B    8.002078e+05\n",
       "C    1.848681e+06\n",
       "D    1.964717e+07\n",
       "E    8.169390e+06\n",
       "F    5.201586e+06\n",
       "G    3.095997e+06\n",
       "H    5.025822e+07\n",
       "I    1.204354e+07\n",
       "J    3.208860e+07\n",
       "K    4.449590e+06\n",
       "L    1.705902e+07\n",
       "M    4.421178e+06\n",
       "N    6.583530e+06\n",
       "O    4.393289e+07\n",
       "P    5.432134e+06\n",
       "Q    3.900000e+06\n",
       "R    1.837452e+06\n",
       "S    1.629630e+06\n",
       "V    3.814773e+06\n",
       "W    5.724470e+06\n",
       "Y    1.600000e+07\n",
       "Z    3.403284e+06\n",
       "Name: sale_price, dtype: float64"
      ]
     },
     "execution_count": 33,
     "metadata": {},
     "output_type": "execute_result"
    }
   ],
   "source": [
    "price_per_class = data.groupby('building_class')['sale_price'].mean()\n",
    "price_per_class"
   ]
  },
  {
   "cell_type": "code",
   "execution_count": 34,
   "metadata": {},
   "outputs": [
    {
     "data": {
      "text/plain": [
       "month  building_class\n",
       "1      A                 7.757461e+05\n",
       "       B                 8.946425e+05\n",
       "       C                 1.732997e+06\n",
       "       D                 1.650563e+07\n",
       "       E                 5.948571e+06\n",
       "       F                 5.571056e+06\n",
       "       G                 5.550714e+06\n",
       "       H                 2.300000e+06\n",
       "       I                 1.382500e+07\n",
       "       K                 6.529637e+06\n",
       "       M                 2.153500e+06\n",
       "       O                 4.877825e+07\n",
       "       P                 6.950000e+06\n",
       "       R                 1.699239e+06\n",
       "       S                 1.712754e+06\n",
       "       V                 1.200000e+07\n",
       "       W                 2.908333e+06\n",
       "       Z                 7.950000e+05\n",
       "2      A                 6.982877e+05\n",
       "       B                 8.189601e+05\n",
       "       C                 1.494177e+06\n",
       "       D                 1.364434e+07\n",
       "       E                 3.670000e+06\n",
       "       F                 2.966667e+06\n",
       "       G                 2.862000e+06\n",
       "       I                 1.351282e+07\n",
       "       K                 4.648511e+06\n",
       "       L                 1.900000e+07\n",
       "       M                 3.274375e+06\n",
       "       O                 6.410333e+06\n",
       "Name: sale_price, dtype: float64"
      ]
     },
     "execution_count": 34,
     "metadata": {},
     "output_type": "execute_result"
    }
   ],
   "source": [
    "price_per_class_month = data.groupby(['month', 'building_class'])['sale_price'].mean()\n",
    "price_per_class_month.head(30)"
   ]
  },
  {
   "cell_type": "code",
   "execution_count": 35,
   "metadata": {},
   "outputs": [
    {
     "data": {
      "text/plain": [
       "[<matplotlib.lines.Line2D at 0x7f3f0e6a6128>]"
      ]
     },
     "execution_count": 35,
     "metadata": {},
     "output_type": "execute_result"
    },
    {
     "data": {
      "image/png": "[encoded data removed]",
      "text/plain": [
       "<Figure size 432x288 with 1 Axes>"
      ]
     },
     "metadata": {},
     "output_type": "display_data"
    }
   ],
   "source": [
    "plt.plot(price_per_class)"
   ]
  },
  {
   "cell_type": "code",
   "execution_count": 36,
   "metadata": {},
   "outputs": [
    {
     "data": {
      "text/html": [
       "<div>\n",
       "<style scoped>\n",
       "    .dataframe tbody tr th:only-of-type {\n",
       "        vertical-align: middle;\n",
       "    }\n",
       "\n",
       "    .dataframe tbody tr th {\n",
       "        vertical-align: top;\n",
       "    }\n",
       "\n",
       "    .dataframe thead th {\n",
       "        text-align: right;\n",
       "    }\n",
       "</style>\n",
       "<table border=\"1\" class=\"dataframe\">\n",
       "  <thead>\n",
       "    <tr style=\"text-align: right;\">\n",
       "      <th>month</th>\n",
       "      <th>1</th>\n",
       "      <th>2</th>\n",
       "      <th>3</th>\n",
       "      <th>4</th>\n",
       "      <th>5</th>\n",
       "      <th>6</th>\n",
       "      <th>7</th>\n",
       "      <th>8</th>\n",
       "      <th>9</th>\n",
       "      <th>10</th>\n",
       "      <th>11</th>\n",
       "      <th>12</th>\n",
       "    </tr>\n",
       "    <tr>\n",
       "      <th>building_class</th>\n",
       "      <th></th>\n",
       "      <th></th>\n",
       "      <th></th>\n",
       "      <th></th>\n",
       "      <th></th>\n",
       "      <th></th>\n",
       "      <th></th>\n",
       "      <th></th>\n",
       "      <th></th>\n",
       "      <th></th>\n",
       "      <th></th>\n",
       "      <th></th>\n",
       "    </tr>\n",
       "  </thead>\n",
       "  <tbody>\n",
       "    <tr>\n",
       "      <th>A</th>\n",
       "      <td>7.757461e+05</td>\n",
       "      <td>6.982877e+05</td>\n",
       "      <td>6.305670e+05</td>\n",
       "      <td>6.238147e+05</td>\n",
       "      <td>6.765310e+05</td>\n",
       "      <td>7.122341e+05</td>\n",
       "      <td>6.745418e+05</td>\n",
       "      <td>6.974149e+05</td>\n",
       "      <td>7.126123e+05</td>\n",
       "      <td>6.559516e+05</td>\n",
       "      <td>6.709743e+05</td>\n",
       "      <td>6.953297e+05</td>\n",
       "    </tr>\n",
       "    <tr>\n",
       "      <th>B</th>\n",
       "      <td>8.946425e+05</td>\n",
       "      <td>8.189601e+05</td>\n",
       "      <td>8.087950e+05</td>\n",
       "      <td>7.847491e+05</td>\n",
       "      <td>8.028903e+05</td>\n",
       "      <td>7.998838e+05</td>\n",
       "      <td>8.101989e+05</td>\n",
       "      <td>7.832888e+05</td>\n",
       "      <td>8.385242e+05</td>\n",
       "      <td>7.284680e+05</td>\n",
       "      <td>7.805701e+05</td>\n",
       "      <td>7.868777e+05</td>\n",
       "    </tr>\n",
       "    <tr>\n",
       "      <th>C</th>\n",
       "      <td>1.732997e+06</td>\n",
       "      <td>1.494177e+06</td>\n",
       "      <td>1.643744e+06</td>\n",
       "      <td>2.186476e+06</td>\n",
       "      <td>2.092030e+06</td>\n",
       "      <td>2.116862e+06</td>\n",
       "      <td>2.379748e+06</td>\n",
       "      <td>1.613331e+06</td>\n",
       "      <td>1.695163e+06</td>\n",
       "      <td>1.607453e+06</td>\n",
       "      <td>1.791830e+06</td>\n",
       "      <td>1.862561e+06</td>\n",
       "    </tr>\n",
       "    <tr>\n",
       "      <th>D</th>\n",
       "      <td>1.650563e+07</td>\n",
       "      <td>1.364434e+07</td>\n",
       "      <td>1.774208e+07</td>\n",
       "      <td>1.436550e+07</td>\n",
       "      <td>1.444962e+07</td>\n",
       "      <td>9.374037e+06</td>\n",
       "      <td>2.304976e+07</td>\n",
       "      <td>1.939581e+07</td>\n",
       "      <td>2.407727e+07</td>\n",
       "      <td>2.442940e+07</td>\n",
       "      <td>1.840682e+07</td>\n",
       "      <td>3.928012e+07</td>\n",
       "    </tr>\n",
       "    <tr>\n",
       "      <th>E</th>\n",
       "      <td>5.948571e+06</td>\n",
       "      <td>3.670000e+06</td>\n",
       "      <td>8.612539e+06</td>\n",
       "      <td>2.576116e+06</td>\n",
       "      <td>1.273243e+07</td>\n",
       "      <td>3.950643e+06</td>\n",
       "      <td>1.154690e+07</td>\n",
       "      <td>5.031197e+06</td>\n",
       "      <td>1.115382e+07</td>\n",
       "      <td>1.640546e+07</td>\n",
       "      <td>5.159375e+06</td>\n",
       "      <td>6.781400e+06</td>\n",
       "    </tr>\n",
       "    <tr>\n",
       "      <th>F</th>\n",
       "      <td>5.571056e+06</td>\n",
       "      <td>2.966667e+06</td>\n",
       "      <td>2.249000e+06</td>\n",
       "      <td>3.472222e+06</td>\n",
       "      <td>9.900000e+06</td>\n",
       "      <td>8.088525e+06</td>\n",
       "      <td>4.895833e+06</td>\n",
       "      <td>1.076571e+07</td>\n",
       "      <td>4.320000e+06</td>\n",
       "      <td>3.418327e+06</td>\n",
       "      <td>6.100000e+06</td>\n",
       "      <td>2.136113e+06</td>\n",
       "    </tr>\n",
       "    <tr>\n",
       "      <th>G</th>\n",
       "      <td>5.550714e+06</td>\n",
       "      <td>2.862000e+06</td>\n",
       "      <td>2.425969e+06</td>\n",
       "      <td>2.325770e+06</td>\n",
       "      <td>1.309132e+06</td>\n",
       "      <td>1.673571e+06</td>\n",
       "      <td>3.313231e+06</td>\n",
       "      <td>2.473264e+06</td>\n",
       "      <td>3.289525e+06</td>\n",
       "      <td>3.078398e+06</td>\n",
       "      <td>7.780519e+06</td>\n",
       "      <td>1.309480e+06</td>\n",
       "    </tr>\n",
       "    <tr>\n",
       "      <th>H</th>\n",
       "      <td>2.300000e+06</td>\n",
       "      <td>NaN</td>\n",
       "      <td>NaN</td>\n",
       "      <td>5.807000e+07</td>\n",
       "      <td>6.475000e+07</td>\n",
       "      <td>1.180000e+08</td>\n",
       "      <td>1.842500e+07</td>\n",
       "      <td>7.591854e+07</td>\n",
       "      <td>9.500000e+06</td>\n",
       "      <td>1.869576e+08</td>\n",
       "      <td>1.306990e+07</td>\n",
       "      <td>1.453362e+07</td>\n",
       "    </tr>\n",
       "    <tr>\n",
       "      <th>I</th>\n",
       "      <td>1.382500e+07</td>\n",
       "      <td>1.351282e+07</td>\n",
       "      <td>2.115125e+07</td>\n",
       "      <td>9.000000e+06</td>\n",
       "      <td>1.100000e+06</td>\n",
       "      <td>8.524937e+06</td>\n",
       "      <td>NaN</td>\n",
       "      <td>9.750000e+05</td>\n",
       "      <td>NaN</td>\n",
       "      <td>5.266667e+06</td>\n",
       "      <td>NaN</td>\n",
       "      <td>1.375000e+06</td>\n",
       "    </tr>\n",
       "    <tr>\n",
       "      <th>J</th>\n",
       "      <td>NaN</td>\n",
       "      <td>NaN</td>\n",
       "      <td>NaN</td>\n",
       "      <td>NaN</td>\n",
       "      <td>3.150000e+07</td>\n",
       "      <td>NaN</td>\n",
       "      <td>NaN</td>\n",
       "      <td>1.831800e+07</td>\n",
       "      <td>4.700000e+07</td>\n",
       "      <td>1.662500e+07</td>\n",
       "      <td>NaN</td>\n",
       "      <td>NaN</td>\n",
       "    </tr>\n",
       "    <tr>\n",
       "      <th>K</th>\n",
       "      <td>6.529637e+06</td>\n",
       "      <td>4.648511e+06</td>\n",
       "      <td>1.583612e+06</td>\n",
       "      <td>2.994951e+06</td>\n",
       "      <td>2.720757e+06</td>\n",
       "      <td>4.289099e+06</td>\n",
       "      <td>3.225385e+06</td>\n",
       "      <td>5.038253e+06</td>\n",
       "      <td>4.691091e+06</td>\n",
       "      <td>1.065954e+07</td>\n",
       "      <td>3.634420e+06</td>\n",
       "      <td>3.150085e+06</td>\n",
       "    </tr>\n",
       "    <tr>\n",
       "      <th>L</th>\n",
       "      <td>NaN</td>\n",
       "      <td>1.900000e+07</td>\n",
       "      <td>9.575000e+06</td>\n",
       "      <td>NaN</td>\n",
       "      <td>4.650000e+06</td>\n",
       "      <td>1.025000e+07</td>\n",
       "      <td>1.161500e+06</td>\n",
       "      <td>NaN</td>\n",
       "      <td>NaN</td>\n",
       "      <td>2.673844e+07</td>\n",
       "      <td>NaN</td>\n",
       "      <td>NaN</td>\n",
       "    </tr>\n",
       "    <tr>\n",
       "      <th>M</th>\n",
       "      <td>2.153500e+06</td>\n",
       "      <td>3.274375e+06</td>\n",
       "      <td>4.203000e+06</td>\n",
       "      <td>NaN</td>\n",
       "      <td>1.502500e+06</td>\n",
       "      <td>2.164277e+06</td>\n",
       "      <td>2.334875e+07</td>\n",
       "      <td>3.802768e+06</td>\n",
       "      <td>2.420200e+06</td>\n",
       "      <td>1.830000e+06</td>\n",
       "      <td>2.442500e+06</td>\n",
       "      <td>3.154692e+06</td>\n",
       "    </tr>\n",
       "    <tr>\n",
       "      <th>N</th>\n",
       "      <td>NaN</td>\n",
       "      <td>NaN</td>\n",
       "      <td>NaN</td>\n",
       "      <td>1.948832e+06</td>\n",
       "      <td>NaN</td>\n",
       "      <td>9.936761e+06</td>\n",
       "      <td>7.995000e+06</td>\n",
       "      <td>7.925000e+06</td>\n",
       "      <td>NaN</td>\n",
       "      <td>NaN</td>\n",
       "      <td>NaN</td>\n",
       "      <td>3.770589e+06</td>\n",
       "    </tr>\n",
       "    <tr>\n",
       "      <th>O</th>\n",
       "      <td>4.877825e+07</td>\n",
       "      <td>6.410333e+06</td>\n",
       "      <td>1.995082e+07</td>\n",
       "      <td>1.372575e+07</td>\n",
       "      <td>1.808897e+08</td>\n",
       "      <td>3.120312e+06</td>\n",
       "      <td>1.810460e+07</td>\n",
       "      <td>1.045043e+07</td>\n",
       "      <td>1.123847e+07</td>\n",
       "      <td>8.795451e+07</td>\n",
       "      <td>1.457753e+07</td>\n",
       "      <td>4.838357e+07</td>\n",
       "    </tr>\n",
       "    <tr>\n",
       "      <th>P</th>\n",
       "      <td>6.950000e+06</td>\n",
       "      <td>3.475000e+06</td>\n",
       "      <td>1.300000e+06</td>\n",
       "      <td>NaN</td>\n",
       "      <td>6.250000e+05</td>\n",
       "      <td>2.631000e+07</td>\n",
       "      <td>NaN</td>\n",
       "      <td>NaN</td>\n",
       "      <td>NaN</td>\n",
       "      <td>NaN</td>\n",
       "      <td>4.287525e+05</td>\n",
       "      <td>3.565667e+06</td>\n",
       "    </tr>\n",
       "    <tr>\n",
       "      <th>Q</th>\n",
       "      <td>NaN</td>\n",
       "      <td>5.000000e+06</td>\n",
       "      <td>NaN</td>\n",
       "      <td>NaN</td>\n",
       "      <td>NaN</td>\n",
       "      <td>NaN</td>\n",
       "      <td>NaN</td>\n",
       "      <td>NaN</td>\n",
       "      <td>NaN</td>\n",
       "      <td>NaN</td>\n",
       "      <td>2.800000e+06</td>\n",
       "      <td>NaN</td>\n",
       "    </tr>\n",
       "    <tr>\n",
       "      <th>R</th>\n",
       "      <td>1.699239e+06</td>\n",
       "      <td>1.946457e+06</td>\n",
       "      <td>1.973876e+06</td>\n",
       "      <td>2.027045e+06</td>\n",
       "      <td>1.950854e+06</td>\n",
       "      <td>1.980290e+06</td>\n",
       "      <td>1.773248e+06</td>\n",
       "      <td>1.669373e+06</td>\n",
       "      <td>1.699470e+06</td>\n",
       "      <td>1.616691e+06</td>\n",
       "      <td>1.569199e+06</td>\n",
       "      <td>2.020400e+06</td>\n",
       "    </tr>\n",
       "    <tr>\n",
       "      <th>S</th>\n",
       "      <td>1.712754e+06</td>\n",
       "      <td>2.065538e+06</td>\n",
       "      <td>1.958912e+06</td>\n",
       "      <td>2.313555e+06</td>\n",
       "      <td>1.580736e+06</td>\n",
       "      <td>1.087467e+06</td>\n",
       "      <td>1.301078e+06</td>\n",
       "      <td>1.577624e+06</td>\n",
       "      <td>1.583351e+06</td>\n",
       "      <td>1.257117e+06</td>\n",
       "      <td>1.553922e+06</td>\n",
       "      <td>1.646161e+06</td>\n",
       "    </tr>\n",
       "    <tr>\n",
       "      <th>V</th>\n",
       "      <td>1.200000e+07</td>\n",
       "      <td>2.000025e+05</td>\n",
       "      <td>4.700000e+06</td>\n",
       "      <td>7.429710e+05</td>\n",
       "      <td>6.572867e+05</td>\n",
       "      <td>5.408463e+05</td>\n",
       "      <td>1.369917e+06</td>\n",
       "      <td>2.129530e+07</td>\n",
       "      <td>6.061136e+05</td>\n",
       "      <td>6.531700e+05</td>\n",
       "      <td>1.665000e+06</td>\n",
       "      <td>2.000000e+00</td>\n",
       "    </tr>\n",
       "    <tr>\n",
       "      <th>W</th>\n",
       "      <td>2.908333e+06</td>\n",
       "      <td>9.285447e+06</td>\n",
       "      <td>6.620331e+06</td>\n",
       "      <td>NaN</td>\n",
       "      <td>3.106250e+06</td>\n",
       "      <td>1.000000e+07</td>\n",
       "      <td>1.062500e+06</td>\n",
       "      <td>5.600000e+06</td>\n",
       "      <td>4.337500e+06</td>\n",
       "      <td>7.999000e+06</td>\n",
       "      <td>2.825000e+06</td>\n",
       "      <td>1.963135e+07</td>\n",
       "    </tr>\n",
       "    <tr>\n",
       "      <th>Y</th>\n",
       "      <td>NaN</td>\n",
       "      <td>1.600000e+07</td>\n",
       "      <td>NaN</td>\n",
       "      <td>NaN</td>\n",
       "      <td>NaN</td>\n",
       "      <td>NaN</td>\n",
       "      <td>NaN</td>\n",
       "      <td>NaN</td>\n",
       "      <td>NaN</td>\n",
       "      <td>NaN</td>\n",
       "      <td>NaN</td>\n",
       "      <td>NaN</td>\n",
       "    </tr>\n",
       "    <tr>\n",
       "      <th>Z</th>\n",
       "      <td>7.950000e+05</td>\n",
       "      <td>4.700000e+06</td>\n",
       "      <td>1.150000e+07</td>\n",
       "      <td>1.414750e+06</td>\n",
       "      <td>6.000000e+05</td>\n",
       "      <td>NaN</td>\n",
       "      <td>NaN</td>\n",
       "      <td>9.170000e+05</td>\n",
       "      <td>3.600000e+06</td>\n",
       "      <td>9.402673e+05</td>\n",
       "      <td>5.300000e+05</td>\n",
       "      <td>2.205000e+07</td>\n",
       "    </tr>\n",
       "  </tbody>\n",
       "</table>\n",
       "</div>"
      ],
      "text/plain": [
       "month                     1             2             3             4   \\\n",
       "building_class                                                           \n",
       "A               7.757461e+05  6.982877e+05  6.305670e+05  6.238147e+05   \n",
       "B               8.946425e+05  8.189601e+05  8.087950e+05  7.847491e+05   \n",
       "C               1.732997e+06  1.494177e+06  1.643744e+06  2.186476e+06   \n",
       "D               1.650563e+07  1.364434e+07  1.774208e+07  1.436550e+07   \n",
       "E               5.948571e+06  3.670000e+06  8.612539e+06  2.576116e+06   \n",
       "F               5.571056e+06  2.966667e+06  2.249000e+06  3.472222e+06   \n",
       "G               5.550714e+06  2.862000e+06  2.425969e+06  2.325770e+06   \n",
       "H               2.300000e+06           NaN           NaN  5.807000e+07   \n",
       "I               1.382500e+07  1.351282e+07  2.115125e+07  9.000000e+06   \n",
       "J                        NaN           NaN           NaN           NaN   \n",
       "K               6.529637e+06  4.648511e+06  1.583612e+06  2.994951e+06   \n",
       "L                        NaN  1.900000e+07  9.575000e+06           NaN   \n",
       "M               2.153500e+06  3.274375e+06  4.203000e+06           NaN   \n",
       "N                        NaN           NaN           NaN  1.948832e+06   \n",
       "O               4.877825e+07  6.410333e+06  1.995082e+07  1.372575e+07   \n",
       "P               6.950000e+06  3.475000e+06  1.300000e+06           NaN   \n",
       "Q                        NaN  5.000000e+06           NaN           NaN   \n",
       "R               1.699239e+06  1.946457e+06  1.973876e+06  2.027045e+06   \n",
       "S               1.712754e+06  2.065538e+06  1.958912e+06  2.313555e+06   \n",
       "V               1.200000e+07  2.000025e+05  4.700000e+06  7.429710e+05   \n",
       "W               2.908333e+06  9.285447e+06  6.620331e+06           NaN   \n",
       "Y                        NaN  1.600000e+07           NaN           NaN   \n",
       "Z               7.950000e+05  4.700000e+06  1.150000e+07  1.414750e+06   \n",
       "\n",
       "month                     5             6             7             8   \\\n",
       "building_class                                                           \n",
       "A               6.765310e+05  7.122341e+05  6.745418e+05  6.974149e+05   \n",
       "B               8.028903e+05  7.998838e+05  8.101989e+05  7.832888e+05   \n",
       "C               2.092030e+06  2.116862e+06  2.379748e+06  1.613331e+06   \n",
       "D               1.444962e+07  9.374037e+06  2.304976e+07  1.939581e+07   \n",
       "E               1.273243e+07  3.950643e+06  1.154690e+07  5.031197e+06   \n",
       "F               9.900000e+06  8.088525e+06  4.895833e+06  1.076571e+07   \n",
       "G               1.309132e+06  1.673571e+06  3.313231e+06  2.473264e+06   \n",
       "H               6.475000e+07  1.180000e+08  1.842500e+07  7.591854e+07   \n",
       "I               1.100000e+06  8.524937e+06           NaN  9.750000e+05   \n",
       "J               3.150000e+07           NaN           NaN  1.831800e+07   \n",
       "K               2.720757e+06  4.289099e+06  3.225385e+06  5.038253e+06   \n",
       "L               4.650000e+06  1.025000e+07  1.161500e+06           NaN   \n",
       "M               1.502500e+06  2.164277e+06  2.334875e+07  3.802768e+06   \n",
       "N                        NaN  9.936761e+06  7.995000e+06  7.925000e+06   \n",
       "O               1.808897e+08  3.120312e+06  1.810460e+07  1.045043e+07   \n",
       "P               6.250000e+05  2.631000e+07           NaN           NaN   \n",
       "Q                        NaN           NaN           NaN           NaN   \n",
       "R               1.950854e+06  1.980290e+06  1.773248e+06  1.669373e+06   \n",
       "S               1.580736e+06  1.087467e+06  1.301078e+06  1.577624e+06   \n",
       "V               6.572867e+05  5.408463e+05  1.369917e+06  2.129530e+07   \n",
       "W               3.106250e+06  1.000000e+07  1.062500e+06  5.600000e+06   \n",
       "Y                        NaN           NaN           NaN           NaN   \n",
       "Z               6.000000e+05           NaN           NaN  9.170000e+05   \n",
       "\n",
       "month                     9             10            11            12  \n",
       "building_class                                                          \n",
       "A               7.126123e+05  6.559516e+05  6.709743e+05  6.953297e+05  \n",
       "B               8.385242e+05  7.284680e+05  7.805701e+05  7.868777e+05  \n",
       "C               1.695163e+06  1.607453e+06  1.791830e+06  1.862561e+06  \n",
       "D               2.407727e+07  2.442940e+07  1.840682e+07  3.928012e+07  \n",
       "E               1.115382e+07  1.640546e+07  5.159375e+06  6.781400e+06  \n",
       "F               4.320000e+06  3.418327e+06  6.100000e+06  2.136113e+06  \n",
       "G               3.289525e+06  3.078398e+06  7.780519e+06  1.309480e+06  \n",
       "H               9.500000e+06  1.869576e+08  1.306990e+07  1.453362e+07  \n",
       "I                        NaN  5.266667e+06           NaN  1.375000e+06  \n",
       "J               4.700000e+07  1.662500e+07           NaN           NaN  \n",
       "K               4.691091e+06  1.065954e+07  3.634420e+06  3.150085e+06  \n",
       "L                        NaN  2.673844e+07           NaN           NaN  \n",
       "M               2.420200e+06  1.830000e+06  2.442500e+06  3.154692e+06  \n",
       "N                        NaN           NaN           NaN  3.770589e+06  \n",
       "O               1.123847e+07  8.795451e+07  1.457753e+07  4.838357e+07  \n",
       "P                        NaN           NaN  4.287525e+05  3.565667e+06  \n",
       "Q                        NaN           NaN  2.800000e+06           NaN  \n",
       "R               1.699470e+06  1.616691e+06  1.569199e+06  2.020400e+06  \n",
       "S               1.583351e+06  1.257117e+06  1.553922e+06  1.646161e+06  \n",
       "V               6.061136e+05  6.531700e+05  1.665000e+06  2.000000e+00  \n",
       "W               4.337500e+06  7.999000e+06  2.825000e+06  1.963135e+07  \n",
       "Y                        NaN           NaN           NaN           NaN  \n",
       "Z               3.600000e+06  9.402673e+05  5.300000e+05  2.205000e+07  "
      ]
     },
     "execution_count": 36,
     "metadata": {},
     "output_type": "execute_result"
    }
   ],
   "source": [
    "price_per_class_month = price_per_class_month.unstack().T\n",
    "price_per_class_month"
   ]
  },
  {
   "cell_type": "code",
   "execution_count": 37,
   "metadata": {},
   "outputs": [
    {
     "data": {
      "text/plain": [
       "Index(['A', 'B', 'C', 'D', 'E', 'F', 'G', 'H', 'I', 'J', 'K', 'L', 'M', 'N',\n",
       "       'O', 'P', 'Q', 'R', 'S', 'V', 'W', 'Y', 'Z'],\n",
       "      dtype='object', name='building_class')"
      ]
     },
     "execution_count": 37,
     "metadata": {},
     "output_type": "execute_result"
    }
   ],
   "source": [
    "price_per_class_month.index"
   ]
  },
  {
   "cell_type": "code",
   "execution_count": 38,
   "metadata": {},
   "outputs": [
    {
     "data": {
      "image/png": "[encoded data removed]",
      "text/plain": [
       "<Figure size 720x576 with 1 Axes>"
      ]
     },
     "metadata": {},
     "output_type": "display_data"
    },
    {
     "data": {
      "image/png": "[encoded data removed]",
      "text/plain": [
       "<Figure size 720x576 with 1 Axes>"
      ]
     },
     "metadata": {},
     "output_type": "display_data"
    },
    {
     "data": {
      "image/png": "[encoded data removed]",
      "text/plain": [
       "<Figure size 720x576 with 1 Axes>"
      ]
     },
     "metadata": {},
     "output_type": "display_data"
    },
    {
     "data": {
      "image/png": "[encoded data removed]",
      "text/plain": [
       "<Figure size 720x576 with 1 Axes>"
      ]
     },
     "metadata": {},
     "output_type": "display_data"
    },
    {
     "data": {
      "image/png": "[encoded data removed]",
      "text/plain": [
       "<Figure size 720x576 with 1 Axes>"
      ]
     },
     "metadata": {},
     "output_type": "display_data"
    },
    {
     "data": {
      "image/png": "[encoded data removed]",
      "text/plain": [
       "<Figure size 720x576 with 1 Axes>"
      ]
     },
     "metadata": {},
     "output_type": "display_data"
    },
    {
     "data": {
      "image/png": "[encoded data removed]",
      "text/plain": [
       "<Figure size 720x576 with 1 Axes>"
      ]
     },
     "metadata": {},
     "output_type": "display_data"
    },
    {
     "data": {
      "image/png": "[encoded data removed]",
      "text/plain": [
       "<Figure size 720x576 with 1 Axes>"
      ]
     },
     "metadata": {},
     "output_type": "display_data"
    },
    {
     "data": {
      "image/png": "[encoded data removed]",
      "text/plain": [
       "<Figure size 720x576 with 1 Axes>"
      ]
     },
     "metadata": {},
     "output_type": "display_data"
    },
    {
     "data": {
      "image/png": "[encoded data removed]",
      "text/plain": [
       "<Figure size 720x576 with 1 Axes>"
      ]
     },
     "metadata": {},
     "output_type": "display_data"
    },
    {
     "data": {
      "image/png": "[encoded data removed]",
      "text/plain": [
       "<Figure size 720x576 with 1 Axes>"
      ]
     },
     "metadata": {},
     "output_type": "display_data"
    },
    {
     "data": {
      "image/png": "[encoded data removed]",
      "text/plain": [
       "<Figure size 720x576 with 1 Axes>"
      ]
     },
     "metadata": {},
     "output_type": "display_data"
    }
   ],
   "source": [
    "for col in price_per_class_month.columns:\n",
    "    plt.figure(figsize=(10,8))\n",
    "    sns.barplot(x=price_per_class_month.index, y=price_per_class_month[col])\n",
    "    plt.savefig('../plots/price_per_class_{}.png'.format(col))\n",
    "    plt.show()"
   ]
  },
  {
   "cell_type": "code",
   "execution_count": 39,
   "metadata": {},
   "outputs": [
    {
     "data": {
      "text/plain": [
       "Index(['borough_code', 'borough_code_definition', 'neighborhood',\n",
       "       'building_class_category_code', 'tax_class_at_present_code',\n",
       "       'tax_class_at_present_code_definition',\n",
       "       'building_class_at_present_code', 'address', 'apartment_number',\n",
       "       'zipcode', 'residential_units', 'commercial_units', 'total_units',\n",
       "       'land_square_feet', 'gross_square_feet', 'year_built',\n",
       "       'tax_class_at_time_of_sale_code',\n",
       "       'tax_class_at_time_of_sale_code_definition',\n",
       "       'building_class_at_time_of_sale_code', 'sale_price', 'sale_date',\n",
       "       'community_district', 'community_district_definition',\n",
       "       'school_district', 'school_district_definition',\n",
       "       'city_council_district', 'city_council_district_definition',\n",
       "       'fire_company', 'fire_company_definition', 'police_precinct',\n",
       "       'police_precinct_definition', 'health_center_district', 'owner_type',\n",
       "       'owner_type_definition', 'floor_area_total_building',\n",
       "       'floor_area_commercial', 'floor_area_residential', 'floor_area_office',\n",
       "       'floor_area_retail', 'floor_area_garage', 'floor_area_storage',\n",
       "       'floor_area_factory', 'floor_area_other', 'buildings_number_of',\n",
       "       'floors_number_of', 'units_residential_number_of',\n",
       "       'units_total_number_of', 'assessed_value_land', 'assessed_value_total',\n",
       "       'exempt_value_land', 'exempt_value_total', 'year_altered_one',\n",
       "       'year_altered_two', 'historical_district_name',\n",
       "       'maximum_allowable_residential_far', 'maximum_allowable_commercial_far',\n",
       "       'maximum_allowable_facility_far', 'x_coordinate', 'y_coordinate', 'lon',\n",
       "       'lat', 'lat_cent_nbhd', 'lon_cent_nbhd', 'building_class', 'month'],\n",
       "      dtype='object')"
      ]
     },
     "execution_count": 39,
     "metadata": {},
     "output_type": "execute_result"
    }
   ],
   "source": [
    "data.columns"
   ]
  },
  {
   "cell_type": "code",
   "execution_count": 40,
   "metadata": {},
   "outputs": [],
   "source": [
    "for col in data:\n",
    "    if 'definition' in col:\n",
    "        data.drop(col, axis=1, inplace=True)"
   ]
  },
  {
   "cell_type": "code",
   "execution_count": 41,
   "metadata": {},
   "outputs": [],
   "source": [
    "for col in data:\n",
    "    if 'at_present' in col:\n",
    "        data.drop(col, axis=1, inplace=True)"
   ]
  },
  {
   "cell_type": "code",
   "execution_count": 42,
   "metadata": {},
   "outputs": [
    {
     "data": {
      "text/plain": [
       "Index(['borough_code', 'neighborhood', 'building_class_category_code',\n",
       "       'address', 'apartment_number', 'zipcode', 'residential_units',\n",
       "       'commercial_units', 'total_units', 'land_square_feet',\n",
       "       'gross_square_feet', 'year_built', 'tax_class_at_time_of_sale_code',\n",
       "       'building_class_at_time_of_sale_code', 'sale_price', 'sale_date',\n",
       "       'community_district', 'school_district', 'city_council_district',\n",
       "       'fire_company', 'police_precinct', 'health_center_district',\n",
       "       'owner_type', 'floor_area_total_building', 'floor_area_commercial',\n",
       "       'floor_area_residential', 'floor_area_office', 'floor_area_retail',\n",
       "       'floor_area_garage', 'floor_area_storage', 'floor_area_factory',\n",
       "       'floor_area_other', 'buildings_number_of', 'floors_number_of',\n",
       "       'units_residential_number_of', 'units_total_number_of',\n",
       "       'assessed_value_land', 'assessed_value_total', 'exempt_value_land',\n",
       "       'exempt_value_total', 'year_altered_one', 'year_altered_two',\n",
       "       'historical_district_name', 'maximum_allowable_residential_far',\n",
       "       'maximum_allowable_commercial_far', 'maximum_allowable_facility_far',\n",
       "       'x_coordinate', 'y_coordinate', 'lon', 'lat', 'lat_cent_nbhd',\n",
       "       'lon_cent_nbhd', 'building_class', 'month'],\n",
       "      dtype='object')"
      ]
     },
     "execution_count": 42,
     "metadata": {},
     "output_type": "execute_result"
    }
   ],
   "source": [
    "data.columns"
   ]
  },
  {
   "cell_type": "code",
   "execution_count": 43,
   "metadata": {},
   "outputs": [],
   "source": [
    "data.drop(['building_class_at_time_of_sale_code', 'historical_district_name', 'building_class_category_code', 'borough_code', 'address', 'apartment_number', 'zipcode', 'fire_company', 'x_coordinate', 'y_coordinate', 'lat_cent_nbhd',\n",
    "       'lon_cent_nbhd', 'sale_date', 'owner_type', 'assessed_value_land', 'assessed_value_total'], axis=1, inplace=True)"
   ]
  },
  {
   "cell_type": "code",
   "execution_count": 44,
   "metadata": {},
   "outputs": [
    {
     "data": {
      "text/plain": [
       "neighborhood                          object\n",
       "residential_units                    float64\n",
       "commercial_units                     float64\n",
       "total_units                          float64\n",
       "land_square_feet                     float64\n",
       "gross_square_feet                    float64\n",
       "year_built                           float64\n",
       "tax_class_at_time_of_sale_code         int64\n",
       "sale_price                           float64\n",
       "community_district                     int64\n",
       "school_district                      float64\n",
       "city_council_district                float64\n",
       "police_precinct                      float64\n",
       "health_center_district               float64\n",
       "floor_area_total_building            float64\n",
       "floor_area_commercial                float64\n",
       "floor_area_residential               float64\n",
       "floor_area_office                    float64\n",
       "floor_area_retail                    float64\n",
       "floor_area_garage                    float64\n",
       "floor_area_storage                   float64\n",
       "floor_area_factory                   float64\n",
       "floor_area_other                     float64\n",
       "buildings_number_of                  float64\n",
       "floors_number_of                     float64\n",
       "units_residential_number_of            int64\n",
       "units_total_number_of                  int64\n",
       "exempt_value_land                    float64\n",
       "exempt_value_total                   float64\n",
       "year_altered_one                     float64\n",
       "year_altered_two                     float64\n",
       "maximum_allowable_residential_far    float64\n",
       "maximum_allowable_commercial_far     float64\n",
       "maximum_allowable_facility_far       float64\n",
       "lon                                  float64\n",
       "lat                                  float64\n",
       "building_class                        object\n",
       "month                                  int64\n",
       "dtype: object"
      ]
     },
     "execution_count": 44,
     "metadata": {},
     "output_type": "execute_result"
    }
   ],
   "source": [
    "data.dtypes"
   ]
  },
  {
   "cell_type": "code",
   "execution_count": 45,
   "metadata": {},
   "outputs": [],
   "source": [
    "from sklearn.preprocessing import LabelEncoder"
   ]
  },
  {
   "cell_type": "code",
   "execution_count": 46,
   "metadata": {},
   "outputs": [],
   "source": [
    "le = LabelEncoder()\n",
    "building_classes = le.fit_transform(data['building_class'])\n",
    "data['building_class'] = building_classes"
   ]
  },
  {
   "cell_type": "code",
   "execution_count": 47,
   "metadata": {},
   "outputs": [],
   "source": [
    "le = LabelEncoder()\n",
    "neighborhoods = data['neighborhood']\n",
    "neighborhoods_labels = le.fit_transform(data['neighborhood'])\n",
    "data['neighborhood2'] = neighborhoods_labels"
   ]
  },
  {
   "cell_type": "code",
   "execution_count": 48,
   "metadata": {},
   "outputs": [],
   "source": [
    "data.drop('neighborhood', axis=1, inplace=True)"
   ]
  },
  {
   "cell_type": "code",
   "execution_count": 49,
   "metadata": {
    "scrolled": true
   },
   "outputs": [
    {
     "data": {
      "text/plain": [
       "Index(['residential_units', 'commercial_units', 'total_units',\n",
       "       'land_square_feet', 'gross_square_feet', 'year_built',\n",
       "       'tax_class_at_time_of_sale_code', 'sale_price', 'community_district',\n",
       "       'school_district', 'city_council_district', 'police_precinct',\n",
       "       'health_center_district', 'floor_area_total_building',\n",
       "       'floor_area_commercial', 'floor_area_residential', 'floor_area_office',\n",
       "       'floor_area_retail', 'floor_area_garage', 'floor_area_storage',\n",
       "       'floor_area_factory', 'floor_area_other', 'buildings_number_of',\n",
       "       'floors_number_of', 'units_residential_number_of',\n",
       "       'units_total_number_of', 'exempt_value_land', 'exempt_value_total',\n",
       "       'year_altered_one', 'year_altered_two',\n",
       "       'maximum_allowable_residential_far', 'maximum_allowable_commercial_far',\n",
       "       'maximum_allowable_facility_far', 'lon', 'lat', 'building_class',\n",
       "       'month', 'neighborhood2'],\n",
       "      dtype='object')"
      ]
     },
     "execution_count": 49,
     "metadata": {},
     "output_type": "execute_result"
    }
   ],
   "source": [
    "data.columns"
   ]
  },
  {
   "cell_type": "code",
   "execution_count": 50,
   "metadata": {},
   "outputs": [
    {
     "data": {
      "text/plain": [
       "residential_units                     True\n",
       "commercial_units                      True\n",
       "total_units                          False\n",
       "land_square_feet                      True\n",
       "gross_square_feet                     True\n",
       "year_built                            True\n",
       "tax_class_at_time_of_sale_code       False\n",
       "sale_price                           False\n",
       "community_district                   False\n",
       "school_district                      False\n",
       "city_council_district                False\n",
       "police_precinct                       True\n",
       "health_center_district               False\n",
       "floor_area_total_building             True\n",
       "floor_area_commercial                 True\n",
       "floor_area_residential                True\n",
       "floor_area_office                     True\n",
       "floor_area_retail                     True\n",
       "floor_area_garage                     True\n",
       "floor_area_storage                    True\n",
       "floor_area_factory                    True\n",
       "floor_area_other                      True\n",
       "buildings_number_of                   True\n",
       "floors_number_of                      True\n",
       "units_residential_number_of          False\n",
       "units_total_number_of                False\n",
       "exempt_value_land                     True\n",
       "exempt_value_total                    True\n",
       "year_altered_one                      True\n",
       "year_altered_two                      True\n",
       "maximum_allowable_residential_far     True\n",
       "maximum_allowable_commercial_far      True\n",
       "maximum_allowable_facility_far        True\n",
       "lon                                  False\n",
       "lat                                  False\n",
       "building_class                       False\n",
       "month                                False\n",
       "neighborhood2                        False\n",
       "dtype: bool"
      ]
     },
     "execution_count": 50,
     "metadata": {},
     "output_type": "execute_result"
    }
   ],
   "source": [
    "data.isnull().any()"
   ]
  },
  {
   "cell_type": "code",
   "execution_count": 51,
   "metadata": {},
   "outputs": [],
   "source": [
    "from sklearn.ensemble import RandomForestRegressor\n",
    "from xgboost.sklearn import XGBRegressor\n",
    "from sklearn.model_selection import train_test_split\n",
    "from sklearn.metrics import mean_squared_error"
   ]
  },
  {
   "cell_type": "code",
   "execution_count": 52,
   "metadata": {},
   "outputs": [],
   "source": [
    "data.fillna(-9999, inplace=True)"
   ]
  },
  {
   "cell_type": "code",
   "execution_count": 53,
   "metadata": {},
   "outputs": [],
   "source": [
    "min_sale_price = data['sale_price'].quantile(0.1)\n",
    "max_sale_price = data['sale_price'].quantile(0.9)\n",
    "\n",
    "data = data[(data['sale_price'] >= min_sale_price) & (data['sale_price'] <= max_sale_price)]"
   ]
  },
  {
   "cell_type": "code",
   "execution_count": 54,
   "metadata": {},
   "outputs": [],
   "source": [
    "X_train, X_test, y_train, y_test = train_test_split(data.drop('sale_price', axis=1), data['sale_price'], test_size=0.4, random_state=1337)"
   ]
  },
  {
   "cell_type": "code",
   "execution_count": 55,
   "metadata": {},
   "outputs": [
    {
     "data": {
      "text/plain": [
       "RandomForestRegressor(bootstrap=True, criterion='mse', max_depth=None,\n",
       "           max_features='auto', max_leaf_nodes=None,\n",
       "           min_impurity_decrease=0.0, min_impurity_split=None,\n",
       "           min_samples_leaf=1, min_samples_split=2,\n",
       "           min_weight_fraction_leaf=0.0, n_estimators=100, n_jobs=1,\n",
       "           oob_score=False, random_state=None, verbose=0, warm_start=False)"
      ]
     },
     "execution_count": 55,
     "metadata": {},
     "output_type": "execute_result"
    }
   ],
   "source": [
    "rf = RandomForestRegressor(n_estimators=100)\n",
    "rf.fit(X_train, y_train)"
   ]
  },
  {
   "cell_type": "code",
   "execution_count": 56,
   "metadata": {},
   "outputs": [],
   "source": [
    "y_preds = rf.predict(X_test)"
   ]
  },
  {
   "cell_type": "code",
   "execution_count": 57,
   "metadata": {},
   "outputs": [
    {
     "data": {
      "text/plain": [
       "270312.1735048258"
      ]
     },
     "execution_count": 57,
     "metadata": {},
     "output_type": "execute_result"
    }
   ],
   "source": [
    "np.sqrt(mean_squared_error(y_test, y_preds))"
   ]
  },
  {
   "cell_type": "code",
   "execution_count": 58,
   "metadata": {},
   "outputs": [
    {
     "data": {
      "text/plain": [
       "XGBRegressor(base_score=0.5, booster='gbtree', colsample_bylevel=1,\n",
       "       colsample_bytree=1, gamma=0, learning_rate=0.1, max_delta_step=0,\n",
       "       max_depth=3, min_child_weight=1, missing=None, n_estimators=1000,\n",
       "       n_jobs=1, nthread=None, objective='reg:linear', random_state=0,\n",
       "       reg_alpha=0, reg_lambda=1, scale_pos_weight=1, seed=None,\n",
       "       silent=True, subsample=1)"
      ]
     },
     "execution_count": 58,
     "metadata": {},
     "output_type": "execute_result"
    }
   ],
   "source": [
    "xgb = XGBRegressor(n_estimators=1000)\n",
    "xgb.fit(X_train, y_train)"
   ]
  },
  {
   "cell_type": "code",
   "execution_count": 59,
   "metadata": {},
   "outputs": [],
   "source": [
    "y_preds_xgb = xgb.predict(X_test)"
   ]
  },
  {
   "cell_type": "code",
   "execution_count": 60,
   "metadata": {},
   "outputs": [
    {
     "data": {
      "text/plain": [
       "267268.1149995204"
      ]
     },
     "execution_count": 60,
     "metadata": {},
     "output_type": "execute_result"
    }
   ],
   "source": [
    "np.sqrt(mean_squared_error(y_test, y_preds_xgb))"
   ]
  },
  {
   "cell_type": "code",
   "execution_count": 61,
   "metadata": {},
   "outputs": [
    {
     "data": {
      "text/plain": [
       "array([2.88122844e-03, 1.57899652e-03, 3.25320634e-03, 3.79828471e-02,\n",
       "       1.02769472e-01, 2.84657866e-02, 2.22020086e-03, 5.83716809e-02,\n",
       "       4.00020633e-02, 2.32774434e-02, 7.09654459e-02, 4.09862271e-02,\n",
       "       4.81927623e-02, 1.03090988e-02, 3.75863100e-02, 3.69256214e-03,\n",
       "       6.62102901e-03, 3.04555498e-03, 3.29759884e-03, 1.05624904e-04,\n",
       "       3.64907454e-03, 3.49982123e-03, 1.23857918e-02, 1.66529248e-02,\n",
       "       1.42555513e-02, 1.49715815e-02, 1.87421946e-02, 1.20259351e-02,\n",
       "       1.85971773e-03, 2.16247349e-02, 1.04375648e-02, 1.08498713e-02,\n",
       "       1.07587573e-01, 5.34668956e-02, 1.02681539e-01, 5.06412616e-02,\n",
       "       1.90628272e-02])"
      ]
     },
     "execution_count": 61,
     "metadata": {},
     "output_type": "execute_result"
    }
   ],
   "source": [
    "rf.feature_importances_"
   ]
  },
  {
   "cell_type": "code",
   "execution_count": 62,
   "metadata": {},
   "outputs": [
    {
     "data": {
      "image/png": "[encoded data removed]",
      "text/plain": [
       "<Figure size 720x576 with 1 Axes>"
      ]
     },
     "metadata": {},
     "output_type": "display_data"
    }
   ],
   "source": [
    "# Code here\n",
    "importances = rf.feature_importances_\n",
    "indices = np.argsort(importances)[::-1]\n",
    "\n",
    "# Plot the feature importances of the tree\n",
    "plt.figure(figsize=(10,8))\n",
    "plt.bar(range(len(indices)), importances[indices], color=\"r\", align=\"center\")\n",
    "plt.title('Feature Importances Bar Plot')\n",
    "plt.xlabel('Feature Name')\n",
    "plt.ylabel('Feature Importance')\n",
    "plt.xticks(range(len(indices)), X_train.columns[indices], rotation=45, horizontalalignment='right')\n",
    "plt.xlim([-1, len(indices)])\n",
    "plt.tight_layout()\n",
    "plt.savefig('../plots/feature_importances.png')\n",
    "plt.show()"
   ]
  },
  {
   "cell_type": "code",
   "execution_count": null,
   "metadata": {},
   "outputs": [],
   "source": []
  },
  {
   "cell_type": "code",
   "execution_count": 64,
   "metadata": {},
   "outputs": [
    {
     "ename": "ValueError",
     "evalue": "DataFrame.dtypes for data must be int, float or bool.\nDid not expect the data types in fields neighborhood",
     "output_type": "error",
     "traceback": [
      "\u001b[0;31m---------------------------------------------------------------------------\u001b[0m",
      "\u001b[0;31mValueError\u001b[0m                                Traceback (most recent call last)",
      "\u001b[0;32m<ipython-input-64-a1fbf4104d30>\u001b[0m in \u001b[0;36m<module>\u001b[0;34m()\u001b[0m\n\u001b[0;32m----> 1\u001b[0;31m \u001b[0mdata\u001b[0m\u001b[0;34m[\u001b[0m\u001b[0;34m'preds'\u001b[0m\u001b[0;34m]\u001b[0m \u001b[0;34m=\u001b[0m \u001b[0mxgb\u001b[0m\u001b[0;34m.\u001b[0m\u001b[0mpredict\u001b[0m\u001b[0;34m(\u001b[0m\u001b[0mdata\u001b[0m\u001b[0;34m.\u001b[0m\u001b[0mdrop\u001b[0m\u001b[0;34m(\u001b[0m\u001b[0;34m'sale_price'\u001b[0m\u001b[0;34m,\u001b[0m \u001b[0maxis\u001b[0m\u001b[0;34m=\u001b[0m\u001b[0;36m1\u001b[0m\u001b[0;34m)\u001b[0m\u001b[0;34m)\u001b[0m\u001b[0;34m\u001b[0m\u001b[0m\n\u001b[0m",
      "\u001b[0;32m/usr/local/lib/python3.5/dist-packages/xgboost/sklearn.py\u001b[0m in \u001b[0;36mpredict\u001b[0;34m(self, data, output_margin, ntree_limit)\u001b[0m\n\u001b[1;32m    307\u001b[0m     \u001b[0;32mdef\u001b[0m \u001b[0mpredict\u001b[0m\u001b[0;34m(\u001b[0m\u001b[0mself\u001b[0m\u001b[0;34m,\u001b[0m \u001b[0mdata\u001b[0m\u001b[0;34m,\u001b[0m \u001b[0moutput_margin\u001b[0m\u001b[0;34m=\u001b[0m\u001b[0;32mFalse\u001b[0m\u001b[0;34m,\u001b[0m \u001b[0mntree_limit\u001b[0m\u001b[0;34m=\u001b[0m\u001b[0;36m0\u001b[0m\u001b[0;34m)\u001b[0m\u001b[0;34m:\u001b[0m\u001b[0;34m\u001b[0m\u001b[0m\n\u001b[1;32m    308\u001b[0m         \u001b[0;31m# pylint: disable=missing-docstring,invalid-name\u001b[0m\u001b[0;34m\u001b[0m\u001b[0;34m\u001b[0m\u001b[0m\n\u001b[0;32m--> 309\u001b[0;31m         \u001b[0mtest_dmatrix\u001b[0m \u001b[0;34m=\u001b[0m \u001b[0mDMatrix\u001b[0m\u001b[0;34m(\u001b[0m\u001b[0mdata\u001b[0m\u001b[0;34m,\u001b[0m \u001b[0mmissing\u001b[0m\u001b[0;34m=\u001b[0m\u001b[0mself\u001b[0m\u001b[0;34m.\u001b[0m\u001b[0mmissing\u001b[0m\u001b[0;34m,\u001b[0m \u001b[0mnthread\u001b[0m\u001b[0;34m=\u001b[0m\u001b[0mself\u001b[0m\u001b[0;34m.\u001b[0m\u001b[0mn_jobs\u001b[0m\u001b[0;34m)\u001b[0m\u001b[0;34m\u001b[0m\u001b[0m\n\u001b[0m\u001b[1;32m    310\u001b[0m         return self.get_booster().predict(test_dmatrix,\n\u001b[1;32m    311\u001b[0m                                           \u001b[0moutput_margin\u001b[0m\u001b[0;34m=\u001b[0m\u001b[0moutput_margin\u001b[0m\u001b[0;34m,\u001b[0m\u001b[0;34m\u001b[0m\u001b[0m\n",
      "\u001b[0;32m/usr/local/lib/python3.5/dist-packages/xgboost/core.py\u001b[0m in \u001b[0;36m__init__\u001b[0;34m(self, data, label, missing, weight, silent, feature_names, feature_types, nthread)\u001b[0m\n\u001b[1;32m    265\u001b[0m         data, feature_names, feature_types = _maybe_pandas_data(data,\n\u001b[1;32m    266\u001b[0m                                                                 \u001b[0mfeature_names\u001b[0m\u001b[0;34m,\u001b[0m\u001b[0;34m\u001b[0m\u001b[0m\n\u001b[0;32m--> 267\u001b[0;31m                                                                 feature_types)\n\u001b[0m\u001b[1;32m    268\u001b[0m         \u001b[0mlabel\u001b[0m \u001b[0;34m=\u001b[0m \u001b[0m_maybe_pandas_label\u001b[0m\u001b[0;34m(\u001b[0m\u001b[0mlabel\u001b[0m\u001b[0;34m)\u001b[0m\u001b[0;34m\u001b[0m\u001b[0m\n\u001b[1;32m    269\u001b[0m \u001b[0;34m\u001b[0m\u001b[0m\n",
      "\u001b[0;32m/usr/local/lib/python3.5/dist-packages/xgboost/core.py\u001b[0m in \u001b[0;36m_maybe_pandas_data\u001b[0;34m(data, feature_names, feature_types)\u001b[0m\n\u001b[1;32m    184\u001b[0m         msg = \"\"\"DataFrame.dtypes for data must be int, float or bool.\n\u001b[1;32m    185\u001b[0m Did not expect the data types in fields \"\"\"\n\u001b[0;32m--> 186\u001b[0;31m         \u001b[0;32mraise\u001b[0m \u001b[0mValueError\u001b[0m\u001b[0;34m(\u001b[0m\u001b[0mmsg\u001b[0m \u001b[0;34m+\u001b[0m \u001b[0;34m', '\u001b[0m\u001b[0;34m.\u001b[0m\u001b[0mjoin\u001b[0m\u001b[0;34m(\u001b[0m\u001b[0mbad_fields\u001b[0m\u001b[0;34m)\u001b[0m\u001b[0;34m)\u001b[0m\u001b[0;34m\u001b[0m\u001b[0m\n\u001b[0m\u001b[1;32m    187\u001b[0m \u001b[0;34m\u001b[0m\u001b[0m\n\u001b[1;32m    188\u001b[0m     \u001b[0;32mif\u001b[0m \u001b[0mfeature_names\u001b[0m \u001b[0;32mis\u001b[0m \u001b[0;32mNone\u001b[0m\u001b[0;34m:\u001b[0m\u001b[0;34m\u001b[0m\u001b[0m\n",
      "\u001b[0;31mValueError\u001b[0m: DataFrame.dtypes for data must be int, float or bool.\nDid not expect the data types in fields neighborhood"
     ]
    }
   ],
   "source": [
    "data['preds'] = xgb.predict(data.drop('sale_price', axis=1))"
   ]
  },
  {
   "cell_type": "code",
   "execution_count": 63,
   "metadata": {
    "scrolled": true
   },
   "outputs": [],
   "source": [
    "data['neighborhood'] = neighborhoods"
   ]
  },
  {
   "cell_type": "code",
   "execution_count": null,
   "metadata": {},
   "outputs": [],
   "source": [
    "data['rmse'] = np.square(data['sale_price']-data['preds'])"
   ]
  },
  {
   "cell_type": "code",
   "execution_count": null,
   "metadata": {},
   "outputs": [],
   "source": [
    "def plot_circles(data1, attribute, func, constant=25):\n",
    "    if func == \"cnt\":\n",
    "        gb = data.groupby(\"neighborhood\")[attribute].count()\n",
    "    elif func == \"mean\":\n",
    "        gb = data.groupby(\"neighborhood\")[attribute].mean()\n",
    "    max_val = gb.max()\n",
    "    \n",
    "    if func == \"cnt\":\n",
    "        gb2 = data.groupby(\"neighborhood\")['preds'].count()\n",
    "    elif func == \"mean\":\n",
    "        gb2 = data.groupby(\"neighborhood\")['preds'].mean()\n",
    "    max_val2 = gb2.max()\n",
    "    \n",
    "    rmse = np.sqrt(data.groupby('neighborhood')['rmse'].mean())\n",
    "\n",
    "    folium_map = folium.Map(location=[40.738, -73.98],\n",
    "                            zoom_start=11,\n",
    "                            tiles=\"CartoDB dark_matter\")\n",
    "\n",
    "#     for (neigh, attr), lat, long in zip(gb.items(), neighborhood_centers.lat[1:], neighborhood_centers.lon[1:]):\n",
    "#         radius = constant*np.sqrt(attr/max_val)\n",
    "#         marker = folium.CircleMarker(location=[lat, long], radius=radius, color='red')\n",
    "#         marker.add_to(folium_map)\n",
    "    for (neigh, attr), r, lat, long in zip(gb2.items(), rmse, neighborhood_centers.lat[1:], neighborhood_centers.lon[1:]):\n",
    "        radius = constant*np.sqrt(attr/max_val2)\n",
    "        marker = folium.CircleMarker(location=[lat, long], radius=radius, color='blue', fill='blue', fill_opacity='0.3',\n",
    "                                    popup=folium.Popup('neigh: {}, rmse: {:.0f}k'.format(neigh, r/1000)))\n",
    "        marker.add_to(folium_map)\n",
    "    return folium_map"
   ]
  },
  {
   "cell_type": "code",
   "execution_count": null,
   "metadata": {
    "scrolled": true
   },
   "outputs": [],
   "source": [
    "plot_circles(data, \"sale_price\", \"mean\")"
   ]
  }
 ],
 "metadata": {
  "kernelspec": {
   "display_name": "Python 3",
   "language": "python",
   "name": "python3"
  },
  "language_info": {
   "codemirror_mode": {
    "name": "ipython",
    "version": 3
   },
   "file_extension": ".py",
   "mimetype": "text/x-python",
   "name": "python",
   "nbconvert_exporter": "python",
   "pygments_lexer": "ipython3",
   "version": "3.5.2"
  }
 },
 "nbformat": 4,
 "nbformat_minor": 2
}
